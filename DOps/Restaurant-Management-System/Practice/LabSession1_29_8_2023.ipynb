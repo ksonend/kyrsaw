{
  "nbformat": 4,
  "nbformat_minor": 0,
  "metadata": {
    "colab": {
      "provenance": [],
      "authorship_tag": "ABX9TyNxZCkkN/BysQu6jUiBxN1i",
      "include_colab_link": true
    },
    "kernelspec": {
      "name": "python3",
      "display_name": "Python 3"
    },
    "language_info": {
      "name": "python"
    }
  },
  "cells": [
    {
      "cell_type": "markdown",
      "metadata": {
        "id": "view-in-github",
        "colab_type": "text"
      },
      "source": [
        "<a href=\"https://colab.research.google.com/github/Aditya-y9/Python/blob/main/LabSession1_29_8_2023.ipynb\" target=\"_parent\"><img src=\"https://colab.research.google.com/assets/colab-badge.svg\" alt=\"Open In Colab\"/></a>"
      ]
    },
    {
      "cell_type": "code",
      "source": [
        "\n",
        "print(\"Hello World\")"
      ],
      "metadata": {
        "colab": {
          "base_uri": "https://localhost:8080/"
        },
        "id": "EFV8B-VyiIi5",
        "outputId": "0a450d2e-9592-4ce0-ec03-83e77716cf65"
      },
      "execution_count": null,
      "outputs": [
        {
          "output_type": "stream",
          "name": "stdout",
          "text": [
            "Hello World\n"
          ]
        }
      ]
    },
    {
      "cell_type": "code",
      "source": [
        "print(\"Hello World!\")\n"
      ],
      "metadata": {
        "colab": {
          "base_uri": "https://localhost:8080/"
        },
        "id": "04kHah-piSPX",
        "outputId": "aacd0907-526a-4589-c332-0cda5974e54f"
      },
      "execution_count": null,
      "outputs": [
        {
          "output_type": "stream",
          "name": "stdout",
          "text": [
            "Hello World!\n"
          ]
        }
      ]
    },
    {
      "cell_type": "code",
      "source": [
        "if 2 > 1:\n",
        "  print(\"VJTI\")\n",
        "else:\n",
        "  print(\"Aditya Yedurkar\")"
      ],
      "metadata": {
        "id": "ep5z5opeisro",
        "colab": {
          "base_uri": "https://localhost:8080/"
        },
        "outputId": "f58e7554-d524-4ba8-ebba-3e3e04388f2a"
      },
      "execution_count": null,
      "outputs": [
        {
          "output_type": "stream",
          "name": "stdout",
          "text": [
            "VJTI\n"
          ]
        }
      ]
    },
    {
      "cell_type": "markdown",
      "source": [
        "in python both \" \" ' ' and are allowed\n",
        "use tab for indentation"
      ],
      "metadata": {
        "id": "Kdww3VWnilyI"
      }
    },
    {
      "cell_type": "code",
      "source": [
        "a=1\n",
        "print(a , type(a))\n",
        "\n",
        "a=1.2\n",
        "print(a, type(a))\n",
        "\n",
        "a=\"hello world\"\n",
        "print(a , type(a))\n",
        "\n",
        "a=\"a\"\n",
        "print(a, type(a))\n",
        "\"\"\"\n",
        "hi hello\n",
        "\"\"\"\n",
        "\n",
        "a = int(1)\n",
        "print(a)\n",
        "\n",
        "# case sensitive\n",
        "\n",
        "#type casting\n",
        "# camel case\n",
        "InstituteStudentRollNo = 221080076 # pascal case\n",
        "Institute_Student_RollNo = 221080076 # snake case\n",
        "\n",
        "a, b, c = 1, 2, 3\n",
        "\n",
        "# a, b, c = 1, 2\n",
        "# value error\n",
        "# unpack\n",
        "\n",
        "\n",
        "a = b = c = 1\n",
        "print(a, b, c, id(a), id(b), id(c))\n",
        "\n",
        "\n",
        "a, b, c = 1, 2, 3\n",
        "print(a, b, c, id(a), id(b), id(c))\n",
        "\n",
        "a = [1,2,3]\n",
        "print(a, type(a))\n",
        "\n",
        "a = [1,2,\"Aditya\"]\n",
        "print(a, type(a))\n",
        "\n",
        "x, y, z = a # unpacking the list\n",
        "print(x,y,z)\n",
        "\n",
        "\n"
      ],
      "metadata": {
        "colab": {
          "base_uri": "https://localhost:8080/",
          "height": 332
        },
        "id": "ViDMMaa5jpG4",
        "outputId": "d7b6095a-90c0-4470-b006-71e6a218b4ee"
      },
      "execution_count": null,
      "outputs": [
        {
          "output_type": "stream",
          "name": "stdout",
          "text": [
            "1 <class 'int'>\n",
            "1.2 <class 'float'>\n",
            "hello world <class 'str'>\n",
            "a <class 'str'>\n",
            "1\n"
          ]
        },
        {
          "output_type": "error",
          "ename": "ValueError",
          "evalue": "ignored",
          "traceback": [
            "\u001b[0;31m---------------------------------------------------------------------------\u001b[0m",
            "\u001b[0;31mValueError\u001b[0m                                Traceback (most recent call last)",
            "\u001b[0;32m<ipython-input-4-9124cb2ea578>\u001b[0m in \u001b[0;36m<cell line: 20>\u001b[0;34m()\u001b[0m\n\u001b[1;32m     18\u001b[0m \u001b[0;34m\u001b[0m\u001b[0m\n\u001b[1;32m     19\u001b[0m \u001b[0;31m# case sensitive\u001b[0m\u001b[0;34m\u001b[0m\u001b[0;34m\u001b[0m\u001b[0m\n\u001b[0;32m---> 20\u001b[0;31m \u001b[0;32mraise\u001b[0m \u001b[0mValueError\u001b[0m\u001b[0;34m(\u001b[0m\u001b[0;34m\"You are not a good Programmer\"\u001b[0m\u001b[0;34m)\u001b[0m\u001b[0;34m\u001b[0m\u001b[0;34m\u001b[0m\u001b[0m\n\u001b[0m\u001b[1;32m     21\u001b[0m \u001b[0;31m#type casting\u001b[0m\u001b[0;34m\u001b[0m\u001b[0;34m\u001b[0m\u001b[0m\n\u001b[1;32m     22\u001b[0m \u001b[0;31m# camel case\u001b[0m\u001b[0;34m\u001b[0m\u001b[0;34m\u001b[0m\u001b[0m\n",
            "\u001b[0;31mValueError\u001b[0m: You are not a good Programmer"
          ]
        }
      ]
    },
    {
      "cell_type": "code",
      "source": [
        "a = \"Aditya\"\n",
        "print(\"Yedurkar\", a)\n",
        "\n",
        "print(a)\n",
        "\n",
        "print(f\"the value of a = {a} and the value of b = {b}\")"
      ],
      "metadata": {
        "id": "NkTLtNAuqT7x",
        "colab": {
          "base_uri": "https://localhost:8080/"
        },
        "outputId": "20f57a76-12ce-4da3-dba2-5bd0283a97bf"
      },
      "execution_count": null,
      "outputs": [
        {
          "output_type": "stream",
          "name": "stdout",
          "text": [
            "Yedurkar Aditya\n",
            "Aditya\n",
            "the value of a = Aditya and the value of b = Hi, I am Aditya. Learning PDL course in SYBTech IT Lab 2\n"
          ]
        }
      ]
    },
    {
      "cell_type": "code",
      "source": [
        "a=1\n",
        "a=1.2\n",
        "a=\"VJTI\"\n",
        "a=[1,2]\n",
        "a= 2+4j\n",
        "print(type(a))\n",
        "a=range(5)\n",
        "print(type(a))\n",
        "a={1, 2, 3}\n",
        "print(type(a))\n",
        "a={1:\"a\", 2:\"b\"}\n",
        "print(type(a))"
      ],
      "metadata": {
        "colab": {
          "base_uri": "https://localhost:8080/"
        },
        "id": "Xr4Eyfph2zPv",
        "outputId": "3d8e2226-8b81-496d-d756-eb335cb440eb"
      },
      "execution_count": null,
      "outputs": [
        {
          "output_type": "stream",
          "name": "stdout",
          "text": [
            "<class 'complex'>\n",
            "<class 'range'>\n",
            "<class 'set'>\n",
            "<class 'dict'>\n"
          ]
        }
      ]
    },
    {
      "cell_type": "code",
      "source": [
        "a=1\n",
        "print(type(a))\n",
        "b=12345467869585747547489373639567536394637844444444877777777777777\n",
        "b=1e2\n",
        "print(type(b))\n",
        "b=1E2\n",
        "print(type(b))\n",
        "c = 1+20j\n",
        "print(c.real , c.imag , type(c.real) , type(c.imag))\n",
        "\n",
        "a= complex(\"1+2j\")\n",
        "print(a)"
      ],
      "metadata": {
        "colab": {
          "base_uri": "https://localhost:8080/"
        },
        "id": "kx_Qkwol8tKo",
        "outputId": "0ca16d08-d878-42de-a469-337b5d657021"
      },
      "execution_count": null,
      "outputs": [
        {
          "output_type": "stream",
          "name": "stdout",
          "text": [
            "<class 'int'>\n",
            "<class 'float'>\n",
            "<class 'float'>\n",
            "1.0 20.0 <class 'float'> <class 'float'>\n",
            "(1+2j)\n"
          ]
        }
      ]
    },
    {
      "cell_type": "markdown",
      "source": [
        "evaluation\n",
        "100 m\n",
        "40 m ese project and prog test\n",
        "mini project in python\n",
        "60m practical assignement daily in lab itself dotn reamin itself dont copy\n",
        "python online quiz\n",
        "practical programming python\n"
      ],
      "metadata": {
        "id": "-VQ07p7oAQ_3"
      }
    },
    {
      "cell_type": "code",
      "source": [
        "import math, random\n",
        "help(math)\n",
        "x = random.randint(1,500)\n",
        "print(x)\n",
        "print(math.pow(2,3))\n",
        "print(math.sqrt(100))\n",
        "print(random.randrange(1,500))"
      ],
      "metadata": {
        "colab": {
          "base_uri": "https://localhost:8080/"
        },
        "id": "NzkNWTpwfsXF",
        "outputId": "f33753b0-10f3-479b-afb1-2a9393bd8edc"
      },
      "execution_count": null,
      "outputs": [
        {
          "output_type": "stream",
          "name": "stdout",
          "text": [
            "Help on built-in module math:\n",
            "\n",
            "NAME\n",
            "    math\n",
            "\n",
            "DESCRIPTION\n",
            "    This module provides access to the mathematical functions\n",
            "    defined by the C standard.\n",
            "\n",
            "FUNCTIONS\n",
            "    acos(x, /)\n",
            "        Return the arc cosine (measured in radians) of x.\n",
            "        \n",
            "        The result is between 0 and pi.\n",
            "    \n",
            "    acosh(x, /)\n",
            "        Return the inverse hyperbolic cosine of x.\n",
            "    \n",
            "    asin(x, /)\n",
            "        Return the arc sine (measured in radians) of x.\n",
            "        \n",
            "        The result is between -pi/2 and pi/2.\n",
            "    \n",
            "    asinh(x, /)\n",
            "        Return the inverse hyperbolic sine of x.\n",
            "    \n",
            "    atan(x, /)\n",
            "        Return the arc tangent (measured in radians) of x.\n",
            "        \n",
            "        The result is between -pi/2 and pi/2.\n",
            "    \n",
            "    atan2(y, x, /)\n",
            "        Return the arc tangent (measured in radians) of y/x.\n",
            "        \n",
            "        Unlike atan(y/x), the signs of both x and y are considered.\n",
            "    \n",
            "    atanh(x, /)\n",
            "        Return the inverse hyperbolic tangent of x.\n",
            "    \n",
            "    ceil(x, /)\n",
            "        Return the ceiling of x as an Integral.\n",
            "        \n",
            "        This is the smallest integer >= x.\n",
            "    \n",
            "    comb(n, k, /)\n",
            "        Number of ways to choose k items from n items without repetition and without order.\n",
            "        \n",
            "        Evaluates to n! / (k! * (n - k)!) when k <= n and evaluates\n",
            "        to zero when k > n.\n",
            "        \n",
            "        Also called the binomial coefficient because it is equivalent\n",
            "        to the coefficient of k-th term in polynomial expansion of the\n",
            "        expression (1 + x)**n.\n",
            "        \n",
            "        Raises TypeError if either of the arguments are not integers.\n",
            "        Raises ValueError if either of the arguments are negative.\n",
            "    \n",
            "    copysign(x, y, /)\n",
            "        Return a float with the magnitude (absolute value) of x but the sign of y.\n",
            "        \n",
            "        On platforms that support signed zeros, copysign(1.0, -0.0)\n",
            "        returns -1.0.\n",
            "    \n",
            "    cos(x, /)\n",
            "        Return the cosine of x (measured in radians).\n",
            "    \n",
            "    cosh(x, /)\n",
            "        Return the hyperbolic cosine of x.\n",
            "    \n",
            "    degrees(x, /)\n",
            "        Convert angle x from radians to degrees.\n",
            "    \n",
            "    dist(p, q, /)\n",
            "        Return the Euclidean distance between two points p and q.\n",
            "        \n",
            "        The points should be specified as sequences (or iterables) of\n",
            "        coordinates.  Both inputs must have the same dimension.\n",
            "        \n",
            "        Roughly equivalent to:\n",
            "            sqrt(sum((px - qx) ** 2.0 for px, qx in zip(p, q)))\n",
            "    \n",
            "    erf(x, /)\n",
            "        Error function at x.\n",
            "    \n",
            "    erfc(x, /)\n",
            "        Complementary error function at x.\n",
            "    \n",
            "    exp(x, /)\n",
            "        Return e raised to the power of x.\n",
            "    \n",
            "    expm1(x, /)\n",
            "        Return exp(x)-1.\n",
            "        \n",
            "        This function avoids the loss of precision involved in the direct evaluation of exp(x)-1 for small x.\n",
            "    \n",
            "    fabs(x, /)\n",
            "        Return the absolute value of the float x.\n",
            "    \n",
            "    factorial(x, /)\n",
            "        Find x!.\n",
            "        \n",
            "        Raise a ValueError if x is negative or non-integral.\n",
            "    \n",
            "    floor(x, /)\n",
            "        Return the floor of x as an Integral.\n",
            "        \n",
            "        This is the largest integer <= x.\n",
            "    \n",
            "    fmod(x, y, /)\n",
            "        Return fmod(x, y), according to platform C.\n",
            "        \n",
            "        x % y may differ.\n",
            "    \n",
            "    frexp(x, /)\n",
            "        Return the mantissa and exponent of x, as pair (m, e).\n",
            "        \n",
            "        m is a float and e is an int, such that x = m * 2.**e.\n",
            "        If x is 0, m and e are both 0.  Else 0.5 <= abs(m) < 1.0.\n",
            "    \n",
            "    fsum(seq, /)\n",
            "        Return an accurate floating point sum of values in the iterable seq.\n",
            "        \n",
            "        Assumes IEEE-754 floating point arithmetic.\n",
            "    \n",
            "    gamma(x, /)\n",
            "        Gamma function at x.\n",
            "    \n",
            "    gcd(*integers)\n",
            "        Greatest Common Divisor.\n",
            "    \n",
            "    hypot(...)\n",
            "        hypot(*coordinates) -> value\n",
            "        \n",
            "        Multidimensional Euclidean distance from the origin to a point.\n",
            "        \n",
            "        Roughly equivalent to:\n",
            "            sqrt(sum(x**2 for x in coordinates))\n",
            "        \n",
            "        For a two dimensional point (x, y), gives the hypotenuse\n",
            "        using the Pythagorean theorem:  sqrt(x*x + y*y).\n",
            "        \n",
            "        For example, the hypotenuse of a 3/4/5 right triangle is:\n",
            "        \n",
            "            >>> hypot(3.0, 4.0)\n",
            "            5.0\n",
            "    \n",
            "    isclose(a, b, *, rel_tol=1e-09, abs_tol=0.0)\n",
            "        Determine whether two floating point numbers are close in value.\n",
            "        \n",
            "          rel_tol\n",
            "            maximum difference for being considered \"close\", relative to the\n",
            "            magnitude of the input values\n",
            "          abs_tol\n",
            "            maximum difference for being considered \"close\", regardless of the\n",
            "            magnitude of the input values\n",
            "        \n",
            "        Return True if a is close in value to b, and False otherwise.\n",
            "        \n",
            "        For the values to be considered close, the difference between them\n",
            "        must be smaller than at least one of the tolerances.\n",
            "        \n",
            "        -inf, inf and NaN behave similarly to the IEEE 754 Standard.  That\n",
            "        is, NaN is not close to anything, even itself.  inf and -inf are\n",
            "        only close to themselves.\n",
            "    \n",
            "    isfinite(x, /)\n",
            "        Return True if x is neither an infinity nor a NaN, and False otherwise.\n",
            "    \n",
            "    isinf(x, /)\n",
            "        Return True if x is a positive or negative infinity, and False otherwise.\n",
            "    \n",
            "    isnan(x, /)\n",
            "        Return True if x is a NaN (not a number), and False otherwise.\n",
            "    \n",
            "    isqrt(n, /)\n",
            "        Return the integer part of the square root of the input.\n",
            "    \n",
            "    lcm(*integers)\n",
            "        Least Common Multiple.\n",
            "    \n",
            "    ldexp(x, i, /)\n",
            "        Return x * (2**i).\n",
            "        \n",
            "        This is essentially the inverse of frexp().\n",
            "    \n",
            "    lgamma(x, /)\n",
            "        Natural logarithm of absolute value of Gamma function at x.\n",
            "    \n",
            "    log(...)\n",
            "        log(x, [base=math.e])\n",
            "        Return the logarithm of x to the given base.\n",
            "        \n",
            "        If the base not specified, returns the natural logarithm (base e) of x.\n",
            "    \n",
            "    log10(x, /)\n",
            "        Return the base 10 logarithm of x.\n",
            "    \n",
            "    log1p(x, /)\n",
            "        Return the natural logarithm of 1+x (base e).\n",
            "        \n",
            "        The result is computed in a way which is accurate for x near zero.\n",
            "    \n",
            "    log2(x, /)\n",
            "        Return the base 2 logarithm of x.\n",
            "    \n",
            "    modf(x, /)\n",
            "        Return the fractional and integer parts of x.\n",
            "        \n",
            "        Both results carry the sign of x and are floats.\n",
            "    \n",
            "    nextafter(x, y, /)\n",
            "        Return the next floating-point value after x towards y.\n",
            "    \n",
            "    perm(n, k=None, /)\n",
            "        Number of ways to choose k items from n items without repetition and with order.\n",
            "        \n",
            "        Evaluates to n! / (n - k)! when k <= n and evaluates\n",
            "        to zero when k > n.\n",
            "        \n",
            "        If k is not specified or is None, then k defaults to n\n",
            "        and the function returns n!.\n",
            "        \n",
            "        Raises TypeError if either of the arguments are not integers.\n",
            "        Raises ValueError if either of the arguments are negative.\n",
            "    \n",
            "    pow(x, y, /)\n",
            "        Return x**y (x to the power of y).\n",
            "    \n",
            "    prod(iterable, /, *, start=1)\n",
            "        Calculate the product of all the elements in the input iterable.\n",
            "        \n",
            "        The default start value for the product is 1.\n",
            "        \n",
            "        When the iterable is empty, return the start value.  This function is\n",
            "        intended specifically for use with numeric values and may reject\n",
            "        non-numeric types.\n",
            "    \n",
            "    radians(x, /)\n",
            "        Convert angle x from degrees to radians.\n",
            "    \n",
            "    remainder(x, y, /)\n",
            "        Difference between x and the closest integer multiple of y.\n",
            "        \n",
            "        Return x - n*y where n*y is the closest integer multiple of y.\n",
            "        In the case where x is exactly halfway between two multiples of\n",
            "        y, the nearest even value of n is used. The result is always exact.\n",
            "    \n",
            "    sin(x, /)\n",
            "        Return the sine of x (measured in radians).\n",
            "    \n",
            "    sinh(x, /)\n",
            "        Return the hyperbolic sine of x.\n",
            "    \n",
            "    sqrt(x, /)\n",
            "        Return the square root of x.\n",
            "    \n",
            "    tan(x, /)\n",
            "        Return the tangent of x (measured in radians).\n",
            "    \n",
            "    tanh(x, /)\n",
            "        Return the hyperbolic tangent of x.\n",
            "    \n",
            "    trunc(x, /)\n",
            "        Truncates the Real x to the nearest Integral toward 0.\n",
            "        \n",
            "        Uses the __trunc__ magic method.\n",
            "    \n",
            "    ulp(x, /)\n",
            "        Return the value of the least significant bit of the float x.\n",
            "\n",
            "DATA\n",
            "    e = 2.718281828459045\n",
            "    inf = inf\n",
            "    nan = nan\n",
            "    pi = 3.141592653589793\n",
            "    tau = 6.283185307179586\n",
            "\n",
            "FILE\n",
            "    (built-in)\n",
            "\n",
            "\n",
            "80\n",
            "8.0\n",
            "10.0\n",
            "271\n"
          ]
        }
      ]
    },
    {
      "cell_type": "code",
      "source": [
        "a = 'hello world'\n",
        "b = \"Hi, I am Aditya. Learning PDL course in SYBTech IT Lab 2\"\n",
        "print(a, type(a),\"\\n\")\n",
        "print(b, type(b),\"\\n\")"
      ],
      "metadata": {
        "colab": {
          "base_uri": "https://localhost:8080/"
        },
        "id": "W6aHUkSpgkEd",
        "outputId": "8538f9eb-a275-4c0d-8d1e-7e4872877175"
      },
      "execution_count": null,
      "outputs": [
        {
          "output_type": "stream",
          "name": "stdout",
          "text": [
            "hello world <class 'str'> \n",
            "\n",
            "Hi, I am Aditya. Learning PDL course in SYBTech IT Lab 2 <class 'str'> \n",
            "\n"
          ]
        }
      ]
    },
    {
      "cell_type": "code",
      "source": [
        "a = \"Hello World\"\n",
        "b = a[10]\n",
        "print(b)\n",
        "\n",
        "print(\"Length of a :\", len(a))\n",
        "x=range(0,len(a))\n",
        "print(x)\n",
        "\n",
        "for i in range(0,len(a)):\n",
        "  print(i)\n",
        "\n",
        "for i in \"Hello World\":\n",
        "  print(i)\n",
        "\n",
        "for i in a:\n",
        "  print(i)"
      ],
      "metadata": {
        "colab": {
          "base_uri": "https://localhost:8080/"
        },
        "id": "0ciObSwIiIKt",
        "outputId": "995b159c-b950-4a17-f9e8-031eb0460696"
      },
      "execution_count": null,
      "outputs": [
        {
          "output_type": "stream",
          "name": "stdout",
          "text": [
            "d\n",
            "Length of a : 11\n",
            "range(0, 11)\n",
            "0\n",
            "1\n",
            "2\n",
            "3\n",
            "4\n",
            "5\n",
            "6\n",
            "7\n",
            "8\n",
            "9\n",
            "10\n",
            "H\n",
            "e\n",
            "l\n",
            "l\n",
            "o\n",
            " \n",
            "W\n",
            "o\n",
            "r\n",
            "l\n",
            "d\n",
            "H\n",
            "e\n",
            "l\n",
            "l\n",
            "o\n",
            " \n",
            "W\n",
            "o\n",
            "r\n",
            "l\n",
            "d\n"
          ]
        }
      ]
    },
    {
      "cell_type": "code",
      "source": [
        "a = \"I am Aditya. I am studying in SYBTech IT\"\n",
        "print(\"Aditya\" in a)\n",
        "print(\"z\" in a)\n",
        "\n",
        "if \"Aditya\" in a:\n",
        "  print(\"Present\")\n",
        "else:\n",
        "  print(\"Not Present\")\n",
        "\n"
      ],
      "metadata": {
        "id": "DKmvkhU-jpBt"
      },
      "execution_count": null,
      "outputs": []
    },
    {
      "cell_type": "code",
      "source": [
        "a = \"Hello World\"\n",
        "print(a[0:5],end=\" \") # end to prevent new line.\n",
        "print(a[-5:])\n",
        "print(a[:5])\n",
        "print(a[0:5])\n",
        "print(a[:5])\n",
        "print(a[6:])\n",
        "\n",
        "\n",
        "print(a[0:5:2])\n",
        "print(a[-5:-1:1])\n",
        "print(a[-1:-6:-1])\n",
        "print(a[11:5:-1])\n"
      ],
      "metadata": {
        "colab": {
          "base_uri": "https://localhost:8080/"
        },
        "id": "nniRj_rvk7W0",
        "outputId": "b6e69a9c-94b7-4ad6-abd4-d80d07be5323"
      },
      "execution_count": null,
      "outputs": [
        {
          "output_type": "stream",
          "name": "stdout",
          "text": [
            "Hello World\n",
            "Hello\n",
            "Hello\n",
            "Hello\n",
            "World\n",
            "Hlo\n",
            "Worl\n",
            "dlroW\n",
            "dlroW\n"
          ]
        }
      ]
    },
    {
      "cell_type": "code",
      "source": [
        "a = \"Hello World\"\n",
        "\n",
        "# upper and lower case functions.\n",
        "print(a.upper())\n",
        "print(a.lower())\n",
        "\n",
        "a = \"    Aditya .    \"\n",
        "b = a.strip()\n",
        "print(b)"
      ],
      "metadata": {
        "colab": {
          "base_uri": "https://localhost:8080/"
        },
        "id": "K7hU04OEm1KN",
        "outputId": "92ddb2e4-6a5b-4582-916d-071195e7926d"
      },
      "execution_count": null,
      "outputs": [
        {
          "output_type": "stream",
          "name": "stdout",
          "text": [
            "HELLO WORLD\n",
            "hello world\n",
            "Aditya .\n"
          ]
        }
      ]
    },
    {
      "cell_type": "code",
      "source": [
        "a = \"Hello World I am back\"\n",
        "print(a.split(\" \"), type(a.split(\" \")))\n",
        "print(a.split(\"I\"))\n",
        "\n",
        "# list as an output after splitting the string\n",
        "#.split() take the point of split as argument but, the point of split is eliminated"
      ],
      "metadata": {
        "colab": {
          "base_uri": "https://localhost:8080/"
        },
        "id": "xJs6YvLonk-e",
        "outputId": "ead829ad-8658-45d5-d588-52d97eaa3d1c"
      },
      "execution_count": null,
      "outputs": [
        {
          "output_type": "stream",
          "name": "stdout",
          "text": [
            "['Hello', 'World', 'I', 'am', 'back'] <class 'list'>\n",
            "['Hello World ', ' am back']\n"
          ]
        }
      ]
    },
    {
      "cell_type": "code",
      "source": [
        "a=\"amyedurkar_b22@it.vjti.ac.in\"\n",
        "print(a.split(\"@\"))\n",
        "b = a.split(\".\")\n",
        "print(b , type(b))"
      ],
      "metadata": {
        "colab": {
          "base_uri": "https://localhost:8080/"
        },
        "id": "im2AkL5goVnV",
        "outputId": "975bb2bf-9ef0-401a-9038-9190b939a013"
      },
      "execution_count": null,
      "outputs": [
        {
          "output_type": "stream",
          "name": "stdout",
          "text": [
            "['amyedurkar_b22', 'it.vjti.ac.in']\n",
            "['amyedurkar_b22@it', 'vjti', 'ac', 'in'] <class 'list'>\n"
          ]
        }
      ]
    },
    {
      "cell_type": "code",
      "source": [
        "# escape characters\n",
        "# \\' \\\" to keep quotes in string as it is\n",
        "# \\r carriage return\n",
        "# \\b backspace\n",
        "# \\xhh = Hex Value\n",
        "# \\ooo = octal value\n",
        "\n",
        "a = \"Hello world. It \\\"s time to walk\"\n",
        "print(a)\n",
        "a = \"Hello world. It 's time to walk\"\n",
        "print(a)"
      ],
      "metadata": {
        "colab": {
          "base_uri": "https://localhost:8080/"
        },
        "id": "og0zeID1osHF",
        "outputId": "00dbf6fe-4b3b-4174-f93b-26fcfa2517c3"
      },
      "execution_count": null,
      "outputs": [
        {
          "output_type": "stream",
          "name": "stdout",
          "text": [
            "Hello world. It \"s time to walk\n",
            "Hello world. It 's time to walk\n"
          ]
        }
      ]
    },
    {
      "cell_type": "code",
      "source": [
        "a = \"Hello world, \\nIt's time to walk\"\n",
        "print(a)"
      ],
      "metadata": {
        "colab": {
          "base_uri": "https://localhost:8080/"
        },
        "id": "J5IbMxWypeoF",
        "outputId": "c9a6b8a3-f9f9-49f0-b587-87d6302490f7"
      },
      "execution_count": null,
      "outputs": [
        {
          "output_type": "stream",
          "name": "stdout",
          "text": [
            "Hello world, \n",
            "It's time to walk\n"
          ]
        }
      ]
    },
    {
      "cell_type": "code",
      "source": [
        "a = \"Hello world \\\\ It it's time to walk\"\n",
        "print(a)\n",
        "# gives single slash"
      ],
      "metadata": {
        "colab": {
          "base_uri": "https://localhost:8080/"
        },
        "id": "KhlY52pAppS9",
        "outputId": "2d3686c6-8858-4440-9c22-fc41dd5da252"
      },
      "execution_count": null,
      "outputs": [
        {
          "output_type": "stream",
          "name": "stdout",
          "text": [
            "Hello world \\ It it's time to walk\n"
          ]
        }
      ]
    },
    {
      "cell_type": "code",
      "source": [
        "a = \"Hello world \\t It's time to walk\"\n",
        "print(a)\n",
        "# tab indentation between the string \\t"
      ],
      "metadata": {
        "colab": {
          "base_uri": "https://localhost:8080/"
        },
        "id": "ETCpHTuVpuGN",
        "outputId": "c9edadde-dd36-4e7f-b62d-a893ef69952d"
      },
      "execution_count": null,
      "outputs": [
        {
          "output_type": "stream",
          "name": "stdout",
          "text": [
            "Hello world \t It's time to walk\n"
          ]
        }
      ]
    },
    {
      "cell_type": "code",
      "source": [
        "a = \"Hello world. \\r Aditya World\"\n",
        "print(a)"
      ],
      "metadata": {
        "colab": {
          "base_uri": "https://localhost:8080/"
        },
        "id": "JDa37kwap9AF",
        "outputId": "6e32b1a9-86f4-47be-cc3d-89200b8338f7"
      },
      "execution_count": null,
      "outputs": [
        {
          "output_type": "stream",
          "name": "stdout",
          "text": [
            "Hello world. \r Sandeep World\n"
          ]
        }
      ]
    },
    {
      "cell_type": "code",
      "source": [
        "a = \"Hello world\\b Aditya World\"\n",
        "print(a)\n",
        "#left character gets deleted by 1"
      ],
      "metadata": {
        "colab": {
          "base_uri": "https://localhost:8080/"
        },
        "id": "AqWOqtDjqLNe",
        "outputId": "363dd122-adaf-4330-9c9b-a206048e9a9d"
      },
      "execution_count": null,
      "outputs": [
        {
          "output_type": "stream",
          "name": "stdout",
          "text": [
            "Hello world\b Sandeep World\n"
          ]
        }
      ]
    },
    {
      "cell_type": "code",
      "source": [
        "a = \"\\x65\"\n",
        "print(ord(\"e\")) 3 ord() to"
      ],
      "metadata": {
        "colab": {
          "base_uri": "https://localhost:8080/"
        },
        "id": "IVthNbVNqVwt",
        "outputId": "5ae652e2-87d7-4558-b237-7400723d17b3"
      },
      "execution_count": null,
      "outputs": [
        {
          "output_type": "stream",
          "name": "stdout",
          "text": [
            "101\n"
          ]
        }
      ]
    },
    {
      "cell_type": "code",
      "source": [
        "a = \"\\111\\112\\113\"\n",
        "print(a)\n",
        "print(ord(\"I\"))"
      ],
      "metadata": {
        "colab": {
          "base_uri": "https://localhost:8080/"
        },
        "id": "qEex5NA_q-I-",
        "outputId": "4c23560a-e1d5-4758-cfca-5c990ee6007e"
      },
      "execution_count": null,
      "outputs": [
        {
          "output_type": "stream",
          "name": "stdout",
          "text": [
            "IJK\n",
            "73\n"
          ]
        }
      ]
    },
    {
      "cell_type": "code",
      "source": [
        "a = \"I am Aditya , My friends name is Aditya\"\n",
        "b = \"Aditya123\"\n",
        "c = \"aditya\"\n",
        "d = \"123\"\n",
        "\n",
        "\n",
        "print(a.count(\"Aditya\"))\n",
        "print(a.count(\"aditya\"))\n",
        "print(a.isalnum())\n",
        "print(a.index(\"Aditya\"))\n",
        "\n",
        "print(c.isalpha())\n",
        "print(a.isdigit())\n",
        "#"
      ],
      "metadata": {
        "colab": {
          "base_uri": "https://localhost:8080/"
        },
        "id": "LmYJ5ybPrMle",
        "outputId": "bad8058a-60e0-4544-db1c-54ada67fce6b"
      },
      "execution_count": null,
      "outputs": [
        {
          "output_type": "stream",
          "name": "stdout",
          "text": [
            "2\n",
            "0\n",
            "False\n",
            "5\n",
            "True\n",
            "False\n"
          ]
        }
      ]
    },
    {
      "cell_type": "code",
      "source": [
        "a = \"Aditya$Yedurkar$VJTI\"\n",
        "b = a.split(\"$\")\n",
        "c = \"^*\".join(b)\n",
        "print(c)\n",
        "\n",
        "# syntax \"separator\".join(list)\n"
      ],
      "metadata": {
        "colab": {
          "base_uri": "https://localhost:8080/"
        },
        "id": "o1gxET5Nrt01",
        "outputId": "7fa47b95-50b9-4efb-806c-8811ae9e94cf"
      },
      "execution_count": null,
      "outputs": [
        {
          "output_type": "stream",
          "name": "stdout",
          "text": [
            "Aditya^*Yedurkar^*VJTI\n"
          ]
        }
      ]
    },
    {
      "cell_type": "code",
      "source": [
        "a = \"      Aditya         \"\n",
        "print(\"Hi\",a.rstrip(), \"How are you\")\n",
        "print(\"Hi\",a.lstrip(), \"How are you\")"
      ],
      "metadata": {
        "colab": {
          "base_uri": "https://localhost:8080/"
        },
        "id": "RXGMh0UttRh-",
        "outputId": "98a9912a-d63f-4e90-a6d7-f19f7350336c"
      },
      "execution_count": null,
      "outputs": [
        {
          "output_type": "stream",
          "name": "stdout",
          "text": [
            "Hi       Aditya How are you\n",
            "Hi Aditya          How are you\n"
          ]
        }
      ]
    },
    {
      "cell_type": "code",
      "source": [
        "a = \"Aditya Yedurkar\"\n",
        "print(a.split())\n",
        "# default splitting criteria is whitespace\n"
      ],
      "metadata": {
        "colab": {
          "base_uri": "https://localhost:8080/"
        },
        "id": "IkLMeDOct4y9",
        "outputId": "0da7dbb8-f92b-4fb1-f28f-5bef659a9075"
      },
      "execution_count": null,
      "outputs": [
        {
          "output_type": "stream",
          "name": "stdout",
          "text": [
            "['Aditya', 'Yedurkar']\n"
          ]
        }
      ]
    },
    {
      "cell_type": "code",
      "source": [
        "a = \"Aditya \\n Yedurkar\"\n",
        "print(a.splitlines())\n",
        "print(a.split(\"\\n\"))\n",
        "\n",
        "# split at new lines"
      ],
      "metadata": {
        "colab": {
          "base_uri": "https://localhost:8080/"
        },
        "id": "u0o6RakhuVfV",
        "outputId": "600c0209-730b-4a44-bf82-f943d7f1c399"
      },
      "execution_count": null,
      "outputs": [
        {
          "output_type": "stream",
          "name": "stdout",
          "text": [
            "['Aditya ', ' Yedurkar']\n",
            "['Aditya ', ' Yedurkar']\n"
          ]
        }
      ]
    },
    {
      "cell_type": "code",
      "source": [
        "print(a.startswith(\"A\"))\n",
        "# boolean checking\n",
        "\n",
        "print(a.endswith(\"r\"))\n",
        "\n",
        "print(a.find(\"Yedurkar\"))\n",
        "\n",
        "print(a.index(\"Yedurkar\"))\n",
        "\n",
        "\n",
        "print(a.find(\"Aditya1\"))\n",
        "\n",
        "print(a.index(\"Aditya\"))\n",
        "\n",
        "\n",
        "# find returns \"-1\" if not found\n",
        "\n",
        "# index returns ValueError when string not found"
      ],
      "metadata": {
        "colab": {
          "base_uri": "https://localhost:8080/"
        },
        "id": "gsTPxO0Wuot9",
        "outputId": "ed301b42-c502-4c6e-c9c3-272a9bdc4394"
      },
      "execution_count": null,
      "outputs": [
        {
          "output_type": "stream",
          "name": "stdout",
          "text": [
            "True\n",
            "True\n",
            "9\n",
            "9\n",
            "-1\n",
            "0\n"
          ]
        }
      ]
    },
    {
      "cell_type": "code",
      "source": [
        "a = \"aditya my friend name is aditya\"\n",
        "b = a.partition(\"aditya\")\n",
        "print(b)\n",
        "\n"
      ],
      "metadata": {
        "colab": {
          "base_uri": "https://localhost:8080/"
        },
        "id": "7Es_HE36vuL1",
        "outputId": "3ad78dc6-6955-4cc6-d4d7-7d9bb337ef50"
      },
      "execution_count": null,
      "outputs": [
        {
          "output_type": "stream",
          "name": "stdout",
          "text": [
            "('', 'aditya', ' my friend name is aditya')\n"
          ]
        }
      ]
    },
    {
      "cell_type": "code",
      "source": [
        "print(a.replace(\"aditya\",\"Sudarshan\"))"
      ],
      "metadata": {
        "colab": {
          "base_uri": "https://localhost:8080/"
        },
        "id": "FMO_FbZawKhF",
        "outputId": "72c50248-4c25-40a6-aae8-cea2a9abf68f"
      },
      "execution_count": null,
      "outputs": [
        {
          "output_type": "stream",
          "name": "stdout",
          "text": [
            "Sudarshan my friend name is Sudarshan\n"
          ]
        }
      ]
    },
    {
      "cell_type": "code",
      "source": [
        "print(bool(\"False\"))\n",
        "print(bool(\" \"))\n",
        "#bool()\n",
        "print(bool([]))\n",
        "print(bool({}))\n",
        "print(bool(\"Hello\"))\n",
        "print(bool(None))\n",
        "\n",
        "a= 1.0\n",
        "print(isinstance(a,int))\n",
        "# only false for zero , none , [] , {}"
      ],
      "metadata": {
        "colab": {
          "base_uri": "https://localhost:8080/"
        },
        "id": "PCFK_ECKw0Bt",
        "outputId": "53450773-216a-44ae-ed43-19d39f2a4543"
      },
      "execution_count": null,
      "outputs": [
        {
          "output_type": "stream",
          "name": "stdout",
          "text": [
            "True\n",
            "True\n",
            "False\n",
            "False\n",
            "True\n",
            "False\n",
            "False\n"
          ]
        }
      ]
    },
    {
      "cell_type": "code",
      "source": [
        "print(-53//24)\n",
        "print(53//24)\n",
        "print(53%24)\n",
        "print(-53%24)\n",
        "print(2**3)\n",
        "print(round(2/3 , 2))\n",
        "print(212 - 32*5 / 9)\n",
        "\n",
        "\n",
        "a+=10\n",
        "print(a)\n",
        "\n",
        "a/=5\n",
        "print(a)\n",
        "\n",
        "a*=5\n",
        "print(a)\n",
        "\n",
        "a = 10\n",
        "a //= 5\n",
        "a = a//5\n",
        "\n",
        "a=10\n",
        "a%=5\n",
        "a=10\n",
        "a**=5\n",
        "print(a)"
      ],
      "metadata": {
        "colab": {
          "base_uri": "https://localhost:8080/"
        },
        "id": "SWXtT_kD0pSF",
        "outputId": "801fdd40-84bd-4ae7-d4ea-980ea57ecbc5"
      },
      "execution_count": null,
      "outputs": [
        {
          "output_type": "stream",
          "name": "stdout",
          "text": [
            "-3\n",
            "2\n",
            "5\n",
            "19\n",
            "8\n",
            "0.67\n",
            "194.22222222222223\n",
            "10\n",
            "2.0\n",
            "10.0\n",
            "100000\n"
          ]
        }
      ]
    },
    {
      "cell_type": "code",
      "source": [
        "a=2\n",
        "a*= 3+4\n",
        "a\n",
        "\n",
        "a=10\n",
        "a&=5\n",
        "print(a)\n",
        "\n",
        "# 1010+0101 = 1111 by XOR operations\n",
        "\n",
        "\n",
        "# & ^XOR\n",
        "\n",
        "a = 9\n",
        "a>>=4\n",
        "a\n",
        "\n"
      ],
      "metadata": {
        "colab": {
          "base_uri": "https://localhost:8080/"
        },
        "id": "UqI8G-G256Ju",
        "outputId": "5c529f9d-438c-412b-8760-8a476e273e3d"
      },
      "execution_count": null,
      "outputs": [
        {
          "output_type": "stream",
          "name": "stdout",
          "text": [
            "0\n"
          ]
        },
        {
          "output_type": "execute_result",
          "data": {
            "text/plain": [
              "0"
            ]
          },
          "metadata": {},
          "execution_count": 176
        }
      ]
    },
    {
      "cell_type": "code",
      "source": [
        "# comparision\n",
        "\n",
        "a=1\n",
        "b=1\n",
        "print(a==b)\n",
        "print(a!=b)"
      ],
      "metadata": {
        "colab": {
          "base_uri": "https://localhost:8080/"
        },
        "id": "fh_wtWFK8_5t",
        "outputId": "fef56b17-a2db-4af4-ab77-c6d256d2a346"
      },
      "execution_count": null,
      "outputs": [
        {
          "output_type": "stream",
          "name": "stdout",
          "text": [
            "True\n",
            "False\n"
          ]
        }
      ]
    },
    {
      "cell_type": "code",
      "source": [
        "print(a<=1 and b>=1)"
      ],
      "metadata": {
        "colab": {
          "base_uri": "https://localhost:8080/"
        },
        "id": "IXKkGj6n9oQ5",
        "outputId": "b3d0825b-b166-4f90-c940-2948f24af0d1"
      },
      "execution_count": null,
      "outputs": [
        {
          "output_type": "stream",
          "name": "stdout",
          "text": [
            "True\n"
          ]
        }
      ]
    },
    {
      "cell_type": "code",
      "source": [
        "print(a<10 and b>10)"
      ],
      "metadata": {
        "colab": {
          "base_uri": "https://localhost:8080/"
        },
        "id": "7Q90nVmB91Uu",
        "outputId": "146516d6-dca2-4819-9acd-ed8738ab52c5"
      },
      "execution_count": null,
      "outputs": [
        {
          "output_type": "stream",
          "name": "stdout",
          "text": [
            "False\n"
          ]
        }
      ]
    },
    {
      "cell_type": "code",
      "source": [
        "print(not(a<=1 and b>=10))"
      ],
      "metadata": {
        "colab": {
          "base_uri": "https://localhost:8080/"
        },
        "id": "3_KU1LMw-AB9",
        "outputId": "7a1f0366-8cb1-4f5e-c747-31a28156d620"
      },
      "execution_count": null,
      "outputs": [
        {
          "output_type": "stream",
          "name": "stdout",
          "text": [
            "True\n"
          ]
        }
      ]
    },
    {
      "cell_type": "code",
      "source": [
        "# list\n",
        "\n",
        "a = [1, 2, 3]\n",
        "print(type(a))\n",
        "\n",
        "# duplicate allowed\n",
        "\n",
        "b=a\n",
        "print(a,b)\n",
        "\n",
        "c=b\n",
        "print(c[0])\n",
        "c[0]=100\n",
        "print(a,b,c)\n",
        "\n",
        "\n",
        "# the value of list remains same but it points to three variables\n",
        "a = [1,2,3]\n",
        "b = tuple(a)\n",
        "b = list(b)\n",
        "\n",
        "print(a,b,type(a),type(b))\n",
        "b[0]=100\n",
        "print(a,b,type(a),type(b))\n",
        "\n",
        "\n",
        "a = [1, 2, 3]\n",
        "print(a[0])\n",
        "print(a[-1], a[-3])\n",
        "\n",
        "\n",
        "a=list((1,2,3))\n",
        "print(type(a))\n",
        "\n",
        "\n",
        "a=[1,2,3,8,5]\n",
        "# a = [ABC,XYZ]\n",
        "print(max(a))\n",
        "# print(sum(a))\n",
        "print(min(a))\n",
        "print(sorted(a))\n",
        "print(a)\n",
        "print(a*2)\n",
        "\n",
        "\n"
      ],
      "metadata": {
        "colab": {
          "base_uri": "https://localhost:8080/"
        },
        "id": "M63R_iUp-UTO",
        "outputId": "9a85f701-f560-463c-8f1f-d36ba19276f5"
      },
      "execution_count": null,
      "outputs": [
        {
          "output_type": "stream",
          "name": "stdout",
          "text": [
            "<class 'list'>\n",
            "[1, 2, 3] [1, 2, 3]\n",
            "1\n",
            "[100, 2, 3] [100, 2, 3] [100, 2, 3]\n",
            "[1, 2, 3] [1, 2, 3] <class 'list'> <class 'list'>\n",
            "[1, 2, 3] [100, 2, 3] <class 'list'> <class 'list'>\n",
            "1\n",
            "3 1\n",
            "<class 'list'>\n",
            "8\n",
            "1\n",
            "[1, 2, 3, 5, 8]\n",
            "[1, 2, 3, 8, 5]\n",
            "[1, 2, 3, 8, 5, 1, 2, 3, 8, 5]\n"
          ]
        }
      ]
    },
    {
      "cell_type": "code",
      "source": [
        "import math\n",
        "help(math)"
      ],
      "metadata": {
        "colab": {
          "base_uri": "https://localhost:8080/"
        },
        "id": "ti0Wrve9iXSV",
        "outputId": "d03f3f84-45ce-40a7-8577-80b183197280"
      },
      "execution_count": null,
      "outputs": [
        {
          "output_type": "stream",
          "name": "stdout",
          "text": [
            "Help on built-in module math:\n",
            "\n",
            "NAME\n",
            "    math\n",
            "\n",
            "DESCRIPTION\n",
            "    This module provides access to the mathematical functions\n",
            "    defined by the C standard.\n",
            "\n",
            "FUNCTIONS\n",
            "    acos(x, /)\n",
            "        Return the arc cosine (measured in radians) of x.\n",
            "        \n",
            "        The result is between 0 and pi.\n",
            "    \n",
            "    acosh(x, /)\n",
            "        Return the inverse hyperbolic cosine of x.\n",
            "    \n",
            "    asin(x, /)\n",
            "        Return the arc sine (measured in radians) of x.\n",
            "        \n",
            "        The result is between -pi/2 and pi/2.\n",
            "    \n",
            "    asinh(x, /)\n",
            "        Return the inverse hyperbolic sine of x.\n",
            "    \n",
            "    atan(x, /)\n",
            "        Return the arc tangent (measured in radians) of x.\n",
            "        \n",
            "        The result is between -pi/2 and pi/2.\n",
            "    \n",
            "    atan2(y, x, /)\n",
            "        Return the arc tangent (measured in radians) of y/x.\n",
            "        \n",
            "        Unlike atan(y/x), the signs of both x and y are considered.\n",
            "    \n",
            "    atanh(x, /)\n",
            "        Return the inverse hyperbolic tangent of x.\n",
            "    \n",
            "    ceil(x, /)\n",
            "        Return the ceiling of x as an Integral.\n",
            "        \n",
            "        This is the smallest integer >= x.\n",
            "    \n",
            "    comb(n, k, /)\n",
            "        Number of ways to choose k items from n items without repetition and without order.\n",
            "        \n",
            "        Evaluates to n! / (k! * (n - k)!) when k <= n and evaluates\n",
            "        to zero when k > n.\n",
            "        \n",
            "        Also called the binomial coefficient because it is equivalent\n",
            "        to the coefficient of k-th term in polynomial expansion of the\n",
            "        expression (1 + x)**n.\n",
            "        \n",
            "        Raises TypeError if either of the arguments are not integers.\n",
            "        Raises ValueError if either of the arguments are negative.\n",
            "    \n",
            "    copysign(x, y, /)\n",
            "        Return a float with the magnitude (absolute value) of x but the sign of y.\n",
            "        \n",
            "        On platforms that support signed zeros, copysign(1.0, -0.0)\n",
            "        returns -1.0.\n",
            "    \n",
            "    cos(x, /)\n",
            "        Return the cosine of x (measured in radians).\n",
            "    \n",
            "    cosh(x, /)\n",
            "        Return the hyperbolic cosine of x.\n",
            "    \n",
            "    degrees(x, /)\n",
            "        Convert angle x from radians to degrees.\n",
            "    \n",
            "    dist(p, q, /)\n",
            "        Return the Euclidean distance between two points p and q.\n",
            "        \n",
            "        The points should be specified as sequences (or iterables) of\n",
            "        coordinates.  Both inputs must have the same dimension.\n",
            "        \n",
            "        Roughly equivalent to:\n",
            "            sqrt(sum((px - qx) ** 2.0 for px, qx in zip(p, q)))\n",
            "    \n",
            "    erf(x, /)\n",
            "        Error function at x.\n",
            "    \n",
            "    erfc(x, /)\n",
            "        Complementary error function at x.\n",
            "    \n",
            "    exp(x, /)\n",
            "        Return e raised to the power of x.\n",
            "    \n",
            "    expm1(x, /)\n",
            "        Return exp(x)-1.\n",
            "        \n",
            "        This function avoids the loss of precision involved in the direct evaluation of exp(x)-1 for small x.\n",
            "    \n",
            "    fabs(x, /)\n",
            "        Return the absolute value of the float x.\n",
            "    \n",
            "    factorial(x, /)\n",
            "        Find x!.\n",
            "        \n",
            "        Raise a ValueError if x is negative or non-integral.\n",
            "    \n",
            "    floor(x, /)\n",
            "        Return the floor of x as an Integral.\n",
            "        \n",
            "        This is the largest integer <= x.\n",
            "    \n",
            "    fmod(x, y, /)\n",
            "        Return fmod(x, y), according to platform C.\n",
            "        \n",
            "        x % y may differ.\n",
            "    \n",
            "    frexp(x, /)\n",
            "        Return the mantissa and exponent of x, as pair (m, e).\n",
            "        \n",
            "        m is a float and e is an int, such that x = m * 2.**e.\n",
            "        If x is 0, m and e are both 0.  Else 0.5 <= abs(m) < 1.0.\n",
            "    \n",
            "    fsum(seq, /)\n",
            "        Return an accurate floating point sum of values in the iterable seq.\n",
            "        \n",
            "        Assumes IEEE-754 floating point arithmetic.\n",
            "    \n",
            "    gamma(x, /)\n",
            "        Gamma function at x.\n",
            "    \n",
            "    gcd(*integers)\n",
            "        Greatest Common Divisor.\n",
            "    \n",
            "    hypot(...)\n",
            "        hypot(*coordinates) -> value\n",
            "        \n",
            "        Multidimensional Euclidean distance from the origin to a point.\n",
            "        \n",
            "        Roughly equivalent to:\n",
            "            sqrt(sum(x**2 for x in coordinates))\n",
            "        \n",
            "        For a two dimensional point (x, y), gives the hypotenuse\n",
            "        using the Pythagorean theorem:  sqrt(x*x + y*y).\n",
            "        \n",
            "        For example, the hypotenuse of a 3/4/5 right triangle is:\n",
            "        \n",
            "            >>> hypot(3.0, 4.0)\n",
            "            5.0\n",
            "    \n",
            "    isclose(a, b, *, rel_tol=1e-09, abs_tol=0.0)\n",
            "        Determine whether two floating point numbers are close in value.\n",
            "        \n",
            "          rel_tol\n",
            "            maximum difference for being considered \"close\", relative to the\n",
            "            magnitude of the input values\n",
            "          abs_tol\n",
            "            maximum difference for being considered \"close\", regardless of the\n",
            "            magnitude of the input values\n",
            "        \n",
            "        Return True if a is close in value to b, and False otherwise.\n",
            "        \n",
            "        For the values to be considered close, the difference between them\n",
            "        must be smaller than at least one of the tolerances.\n",
            "        \n",
            "        -inf, inf and NaN behave similarly to the IEEE 754 Standard.  That\n",
            "        is, NaN is not close to anything, even itself.  inf and -inf are\n",
            "        only close to themselves.\n",
            "    \n",
            "    isfinite(x, /)\n",
            "        Return True if x is neither an infinity nor a NaN, and False otherwise.\n",
            "    \n",
            "    isinf(x, /)\n",
            "        Return True if x is a positive or negative infinity, and False otherwise.\n",
            "    \n",
            "    isnan(x, /)\n",
            "        Return True if x is a NaN (not a number), and False otherwise.\n",
            "    \n",
            "    isqrt(n, /)\n",
            "        Return the integer part of the square root of the input.\n",
            "    \n",
            "    lcm(*integers)\n",
            "        Least Common Multiple.\n",
            "    \n",
            "    ldexp(x, i, /)\n",
            "        Return x * (2**i).\n",
            "        \n",
            "        This is essentially the inverse of frexp().\n",
            "    \n",
            "    lgamma(x, /)\n",
            "        Natural logarithm of absolute value of Gamma function at x.\n",
            "    \n",
            "    log(...)\n",
            "        log(x, [base=math.e])\n",
            "        Return the logarithm of x to the given base.\n",
            "        \n",
            "        If the base not specified, returns the natural logarithm (base e) of x.\n",
            "    \n",
            "    log10(x, /)\n",
            "        Return the base 10 logarithm of x.\n",
            "    \n",
            "    log1p(x, /)\n",
            "        Return the natural logarithm of 1+x (base e).\n",
            "        \n",
            "        The result is computed in a way which is accurate for x near zero.\n",
            "    \n",
            "    log2(x, /)\n",
            "        Return the base 2 logarithm of x.\n",
            "    \n",
            "    modf(x, /)\n",
            "        Return the fractional and integer parts of x.\n",
            "        \n",
            "        Both results carry the sign of x and are floats.\n",
            "    \n",
            "    nextafter(x, y, /)\n",
            "        Return the next floating-point value after x towards y.\n",
            "    \n",
            "    perm(n, k=None, /)\n",
            "        Number of ways to choose k items from n items without repetition and with order.\n",
            "        \n",
            "        Evaluates to n! / (n - k)! when k <= n and evaluates\n",
            "        to zero when k > n.\n",
            "        \n",
            "        If k is not specified or is None, then k defaults to n\n",
            "        and the function returns n!.\n",
            "        \n",
            "        Raises TypeError if either of the arguments are not integers.\n",
            "        Raises ValueError if either of the arguments are negative.\n",
            "    \n",
            "    pow(x, y, /)\n",
            "        Return x**y (x to the power of y).\n",
            "    \n",
            "    prod(iterable, /, *, start=1)\n",
            "        Calculate the product of all the elements in the input iterable.\n",
            "        \n",
            "        The default start value for the product is 1.\n",
            "        \n",
            "        When the iterable is empty, return the start value.  This function is\n",
            "        intended specifically for use with numeric values and may reject\n",
            "        non-numeric types.\n",
            "    \n",
            "    radians(x, /)\n",
            "        Convert angle x from degrees to radians.\n",
            "    \n",
            "    remainder(x, y, /)\n",
            "        Difference between x and the closest integer multiple of y.\n",
            "        \n",
            "        Return x - n*y where n*y is the closest integer multiple of y.\n",
            "        In the case where x is exactly halfway between two multiples of\n",
            "        y, the nearest even value of n is used. The result is always exact.\n",
            "    \n",
            "    sin(x, /)\n",
            "        Return the sine of x (measured in radians).\n",
            "    \n",
            "    sinh(x, /)\n",
            "        Return the hyperbolic sine of x.\n",
            "    \n",
            "    sqrt(x, /)\n",
            "        Return the square root of x.\n",
            "    \n",
            "    tan(x, /)\n",
            "        Return the tangent of x (measured in radians).\n",
            "    \n",
            "    tanh(x, /)\n",
            "        Return the hyperbolic tangent of x.\n",
            "    \n",
            "    trunc(x, /)\n",
            "        Truncates the Real x to the nearest Integral toward 0.\n",
            "        \n",
            "        Uses the __trunc__ magic method.\n",
            "    \n",
            "    ulp(x, /)\n",
            "        Return the value of the least significant bit of the float x.\n",
            "\n",
            "DATA\n",
            "    e = 2.718281828459045\n",
            "    inf = inf\n",
            "    nan = nan\n",
            "    pi = 3.141592653589793\n",
            "    tau = 6.283185307179586\n",
            "\n",
            "FILE\n",
            "    (built-in)\n",
            "\n",
            "\n"
          ]
        }
      ]
    },
    {
      "cell_type": "code",
      "source": [
        "a = [1, 2, 3, 4]\n",
        "a.insert(0, \"A\")\n",
        "print(a)\n",
        "print(len(a))\n",
        "a.insert(10,\"Z\")\n",
        "print(a)\n",
        "\n",
        "# inseted @ last loc\n",
        "a.insert(10000000000000, \"Aditya\")\n",
        "print(a)\n",
        "\n",
        "\n",
        "a.insert(2 , 100.000000678100)\n",
        "print(a)\n",
        "\n",
        "\n",
        "# a.insert(where, what?)\n",
        "\n",
        "a[7]=\"Aditya\"\n",
        "print(a)\n",
        "\n",
        "\n",
        "del a[0]\n",
        "# del what?\n",
        "print(a)\n",
        "\n",
        "a.append(500)\n",
        "print(a)\n",
        "# @ last index only\n",
        "\n",
        "\n",
        "a=[1, 2, 3, 4]\n",
        "b=[\"A\", \"d\", \"i\", \"t\", \"y\", \"a\"]\n",
        "\n",
        "a.extend(b)\n",
        "print(a,b)\n",
        "print(\" \".join(b))\n",
        "\n",
        "\n",
        "b = [\"z\", \"y\", \"x\", \"d\"]\n",
        "b.remove(\"y\")\n",
        "print(b)\n",
        "\n",
        "\n",
        "print(b.pop(2))\n",
        "# pops at index\n",
        "print(b)\n",
        "\n",
        "\n",
        "\n",
        "# full list will vbe cleared\n",
        "b.clear()\n",
        "print(b)\n",
        "# prints empty list as a result\n",
        "\n",
        "b =[\"a\",\"b\",\"c\",\"d\"]\n",
        "# del b\n",
        "# wont delete the whole list use clear instead.\n",
        "\n",
        "\n",
        "a = [10, 20, 30, 40, 50, 20, 30]\n",
        "b = [\"z\", \"d\", \"g\", \"d\", \"a\"]\n",
        "print(b.count(\"d\"))\n",
        "\n",
        "print(b.count(\"a\"))\n",
        "\n",
        "print(b.index(\"d\",1))\n",
        "print(b.index(\"d\",2))\n",
        "print(b.index(\"z\", 0))\n",
        "# second argument to define searching space\n",
        "\n",
        "\n",
        "a.sort()\n",
        "# permanant sorting\n",
        "print(a)\n",
        "\n",
        "\n",
        "a.sort(reverse = True)\n",
        "# permanant reverse sorting (descending).\n",
        "print(a)\n",
        "\n",
        "b=[1, 2, 5, 3]\n",
        "# just reverses the string\n",
        "b.reverse()\n",
        "print(b)\n",
        "a.reverse()\n",
        "print(a)\n",
        "\n",
        "help(print)\n",
        "\n",
        "\n"
      ],
      "metadata": {
        "colab": {
          "base_uri": "https://localhost:8080/"
        },
        "id": "IJi-_urri8zW",
        "outputId": "000e3e3b-da43-4ac0-9e1c-2e71411a5a08"
      },
      "execution_count": null,
      "outputs": [
        {
          "output_type": "stream",
          "name": "stdout",
          "text": [
            "['A', 1, 2, 3, 4]\n",
            "5\n",
            "['A', 1, 2, 3, 4, 'Z']\n",
            "['A', 1, 2, 3, 4, 'Z', 'Aditya']\n",
            "['A', 1, 100.0000006781, 2, 3, 4, 'Z', 'Aditya']\n",
            "['A', 1, 100.0000006781, 2, 3, 4, 'Z', 'Aditya']\n",
            "[1, 100.0000006781, 2, 3, 4, 'Z', 'Aditya']\n",
            "[1, 100.0000006781, 2, 3, 4, 'Z', 'Aditya', 500]\n",
            "[1, 2, 3, 4, 'A', 'd', 'i', 't', 'y', 'a'] ['A', 'd', 'i', 't', 'y', 'a']\n",
            "A d i t y a\n",
            "['z', 'x', 'd']\n",
            "d\n",
            "['z', 'x']\n",
            "[]\n",
            "2\n",
            "1\n",
            "1\n",
            "3\n",
            "0\n",
            "[10, 20, 20, 30, 30, 40, 50]\n",
            "[50, 40, 30, 30, 20, 20, 10]\n",
            "[3, 5, 2, 1]\n",
            "[10, 20, 20, 30, 30, 40, 50]\n",
            "Help on built-in function print in module builtins:\n",
            "\n",
            "print(...)\n",
            "    print(value, ..., sep=' ', end='\\n', file=sys.stdout, flush=False)\n",
            "    \n",
            "    Prints the values to a stream, or to sys.stdout by default.\n",
            "    Optional keyword arguments:\n",
            "    file:  a file-like object (stream); defaults to the current sys.stdout.\n",
            "    sep:   string inserted between values, default a space.\n",
            "    end:   string appended after the last value, default a newline.\n",
            "    flush: whether to forcibly flush the stream.\n",
            "\n"
          ]
        }
      ]
    },
    {
      "cell_type": "code",
      "source": [
        "# loops\n",
        "\n",
        "a = [1, 2, 3, 4]\n",
        "for i in a:\n",
        "  print(i,end=\"\")\n",
        "# sep and end parameters\n",
        "# sep for concatenating\n",
        "\n",
        "for i in range(len(a)):\n",
        "  print(a[i],end=\"\")\n",
        "\n",
        "\n",
        "for i in (0,1,2,3,4,5):\n",
        "  print(i,end=\"\")\n",
        "\n",
        "\n",
        "i=0\n",
        "while i < len(a):\n",
        "  print(a[i])\n",
        "  i+=1 # update condn under the loop\n",
        "\n",
        "\n",
        "print(list(range(5)))\n",
        "print(list(range(3)))\n",
        "print(list(range(0)))\n",
        "print(list(range(2)))\n",
        "print(list(range(0,5)))\n",
        "\n",
        "# first in, last out\n",
        "\n",
        "print(list(range(10,1000)))\n",
        "\n",
        "print(list(range(500,525,-5)))\n",
        "\n",
        "print(list(range(525,500,5)))\n",
        "print(list(range(525,500,3)))\n",
        "a = [10,20,34]\n",
        "x = [a for i in a if i>25] # comprehension\n",
        "print(x)\n",
        "\n",
        "\n",
        "\n",
        "x = []\n",
        "for i in a:\n",
        "  if i>19:\n",
        "    x.append(i)\n",
        "print(x)\n"
      ],
      "metadata": {
        "colab": {
          "base_uri": "https://localhost:8080/"
        },
        "id": "GIaic31WqAB1",
        "outputId": "91a8b7b6-d2ce-44ee-ad7a-e324fa8c488f"
      },
      "execution_count": null,
      "outputs": [
        {
          "output_type": "stream",
          "name": "stdout",
          "text": [
            "123412340123451\n",
            "2\n",
            "3\n",
            "4\n",
            "[0, 1, 2, 3, 4]\n",
            "[0, 1, 2]\n",
            "[]\n",
            "[0, 1]\n",
            "[0, 1, 2, 3, 4]\n",
            "[10, 11, 12, 13, 14, 15, 16, 17, 18, 19, 20, 21, 22, 23, 24, 25, 26, 27, 28, 29, 30, 31, 32, 33, 34, 35, 36, 37, 38, 39, 40, 41, 42, 43, 44, 45, 46, 47, 48, 49, 50, 51, 52, 53, 54, 55, 56, 57, 58, 59, 60, 61, 62, 63, 64, 65, 66, 67, 68, 69, 70, 71, 72, 73, 74, 75, 76, 77, 78, 79, 80, 81, 82, 83, 84, 85, 86, 87, 88, 89, 90, 91, 92, 93, 94, 95, 96, 97, 98, 99, 100, 101, 102, 103, 104, 105, 106, 107, 108, 109, 110, 111, 112, 113, 114, 115, 116, 117, 118, 119, 120, 121, 122, 123, 124, 125, 126, 127, 128, 129, 130, 131, 132, 133, 134, 135, 136, 137, 138, 139, 140, 141, 142, 143, 144, 145, 146, 147, 148, 149, 150, 151, 152, 153, 154, 155, 156, 157, 158, 159, 160, 161, 162, 163, 164, 165, 166, 167, 168, 169, 170, 171, 172, 173, 174, 175, 176, 177, 178, 179, 180, 181, 182, 183, 184, 185, 186, 187, 188, 189, 190, 191, 192, 193, 194, 195, 196, 197, 198, 199, 200, 201, 202, 203, 204, 205, 206, 207, 208, 209, 210, 211, 212, 213, 214, 215, 216, 217, 218, 219, 220, 221, 222, 223, 224, 225, 226, 227, 228, 229, 230, 231, 232, 233, 234, 235, 236, 237, 238, 239, 240, 241, 242, 243, 244, 245, 246, 247, 248, 249, 250, 251, 252, 253, 254, 255, 256, 257, 258, 259, 260, 261, 262, 263, 264, 265, 266, 267, 268, 269, 270, 271, 272, 273, 274, 275, 276, 277, 278, 279, 280, 281, 282, 283, 284, 285, 286, 287, 288, 289, 290, 291, 292, 293, 294, 295, 296, 297, 298, 299, 300, 301, 302, 303, 304, 305, 306, 307, 308, 309, 310, 311, 312, 313, 314, 315, 316, 317, 318, 319, 320, 321, 322, 323, 324, 325, 326, 327, 328, 329, 330, 331, 332, 333, 334, 335, 336, 337, 338, 339, 340, 341, 342, 343, 344, 345, 346, 347, 348, 349, 350, 351, 352, 353, 354, 355, 356, 357, 358, 359, 360, 361, 362, 363, 364, 365, 366, 367, 368, 369, 370, 371, 372, 373, 374, 375, 376, 377, 378, 379, 380, 381, 382, 383, 384, 385, 386, 387, 388, 389, 390, 391, 392, 393, 394, 395, 396, 397, 398, 399, 400, 401, 402, 403, 404, 405, 406, 407, 408, 409, 410, 411, 412, 413, 414, 415, 416, 417, 418, 419, 420, 421, 422, 423, 424, 425, 426, 427, 428, 429, 430, 431, 432, 433, 434, 435, 436, 437, 438, 439, 440, 441, 442, 443, 444, 445, 446, 447, 448, 449, 450, 451, 452, 453, 454, 455, 456, 457, 458, 459, 460, 461, 462, 463, 464, 465, 466, 467, 468, 469, 470, 471, 472, 473, 474, 475, 476, 477, 478, 479, 480, 481, 482, 483, 484, 485, 486, 487, 488, 489, 490, 491, 492, 493, 494, 495, 496, 497, 498, 499, 500, 501, 502, 503, 504, 505, 506, 507, 508, 509, 510, 511, 512, 513, 514, 515, 516, 517, 518, 519, 520, 521, 522, 523, 524, 525, 526, 527, 528, 529, 530, 531, 532, 533, 534, 535, 536, 537, 538, 539, 540, 541, 542, 543, 544, 545, 546, 547, 548, 549, 550, 551, 552, 553, 554, 555, 556, 557, 558, 559, 560, 561, 562, 563, 564, 565, 566, 567, 568, 569, 570, 571, 572, 573, 574, 575, 576, 577, 578, 579, 580, 581, 582, 583, 584, 585, 586, 587, 588, 589, 590, 591, 592, 593, 594, 595, 596, 597, 598, 599, 600, 601, 602, 603, 604, 605, 606, 607, 608, 609, 610, 611, 612, 613, 614, 615, 616, 617, 618, 619, 620, 621, 622, 623, 624, 625, 626, 627, 628, 629, 630, 631, 632, 633, 634, 635, 636, 637, 638, 639, 640, 641, 642, 643, 644, 645, 646, 647, 648, 649, 650, 651, 652, 653, 654, 655, 656, 657, 658, 659, 660, 661, 662, 663, 664, 665, 666, 667, 668, 669, 670, 671, 672, 673, 674, 675, 676, 677, 678, 679, 680, 681, 682, 683, 684, 685, 686, 687, 688, 689, 690, 691, 692, 693, 694, 695, 696, 697, 698, 699, 700, 701, 702, 703, 704, 705, 706, 707, 708, 709, 710, 711, 712, 713, 714, 715, 716, 717, 718, 719, 720, 721, 722, 723, 724, 725, 726, 727, 728, 729, 730, 731, 732, 733, 734, 735, 736, 737, 738, 739, 740, 741, 742, 743, 744, 745, 746, 747, 748, 749, 750, 751, 752, 753, 754, 755, 756, 757, 758, 759, 760, 761, 762, 763, 764, 765, 766, 767, 768, 769, 770, 771, 772, 773, 774, 775, 776, 777, 778, 779, 780, 781, 782, 783, 784, 785, 786, 787, 788, 789, 790, 791, 792, 793, 794, 795, 796, 797, 798, 799, 800, 801, 802, 803, 804, 805, 806, 807, 808, 809, 810, 811, 812, 813, 814, 815, 816, 817, 818, 819, 820, 821, 822, 823, 824, 825, 826, 827, 828, 829, 830, 831, 832, 833, 834, 835, 836, 837, 838, 839, 840, 841, 842, 843, 844, 845, 846, 847, 848, 849, 850, 851, 852, 853, 854, 855, 856, 857, 858, 859, 860, 861, 862, 863, 864, 865, 866, 867, 868, 869, 870, 871, 872, 873, 874, 875, 876, 877, 878, 879, 880, 881, 882, 883, 884, 885, 886, 887, 888, 889, 890, 891, 892, 893, 894, 895, 896, 897, 898, 899, 900, 901, 902, 903, 904, 905, 906, 907, 908, 909, 910, 911, 912, 913, 914, 915, 916, 917, 918, 919, 920, 921, 922, 923, 924, 925, 926, 927, 928, 929, 930, 931, 932, 933, 934, 935, 936, 937, 938, 939, 940, 941, 942, 943, 944, 945, 946, 947, 948, 949, 950, 951, 952, 953, 954, 955, 956, 957, 958, 959, 960, 961, 962, 963, 964, 965, 966, 967, 968, 969, 970, 971, 972, 973, 974, 975, 976, 977, 978, 979, 980, 981, 982, 983, 984, 985, 986, 987, 988, 989, 990, 991, 992, 993, 994, 995, 996, 997, 998, 999]\n",
            "[]\n",
            "[]\n",
            "[]\n",
            "[[10, 20, 34]]\n",
            "[20, 34]\n"
          ]
        }
      ]
    },
    {
      "cell_type": "code",
      "source": [
        "a = [1,2,3,[3,\"b\",\"c\"],100.1,\"Aditya\",[10,20,30]]\n",
        "print(a[3])\n",
        "print(a[3][2])\n",
        "print(a[4])\n",
        "print(a.index(3))\n",
        "print(a[3].index(3))"
      ],
      "metadata": {
        "colab": {
          "base_uri": "https://localhost:8080/"
        },
        "id": "Qoy5JBJTu_Je",
        "outputId": "f3fa8b38-ef5c-4cf0-fda5-2b79d2b6ba15"
      },
      "execution_count": null,
      "outputs": [
        {
          "output_type": "stream",
          "name": "stdout",
          "text": [
            "[3, 'b', 'c']\n",
            "c\n",
            "100.1\n",
            "2\n",
            "0\n"
          ]
        }
      ]
    },
    {
      "cell_type": "code",
      "source": [
        "a =input(\"Enter some input: \")\n",
        "print(a,type(a))\n",
        "\n",
        "\n",
        "a = int(input(\"Enter: \"))\n",
        "print(a,type(a))\n",
        "\n",
        "a = int(input())\n",
        "b = int(input())\n",
        "print(a+b)"
      ],
      "metadata": {
        "colab": {
          "base_uri": "https://localhost:8080/"
        },
        "id": "ZLqWnf4kv6VW",
        "outputId": "23c50d68-bbbb-48bf-a63a-19b94ee9822d"
      },
      "execution_count": null,
      "outputs": [
        {
          "output_type": "stream",
          "name": "stdout",
          "text": [
            "Enter some inputrggt\n",
            "rggt <class 'str'>\n",
            "Enter678\n",
            "678 <class 'int'>\n"
          ]
        }
      ]
    },
    {
      "cell_type": "code",
      "source": [
        "def add(a,b):\n",
        "  return(a+b)\n",
        "\n",
        "def add1(a,b):\n",
        "  print(a+b)\n",
        "\n",
        "print(add(9,8))\n",
        "add1(9,8)\n",
        "\n",
        "\n",
        "x = int(input())\n",
        "y = int(input())\n",
        "print(add(x,y))\n",
        "\n",
        "\n"
      ],
      "metadata": {
        "colab": {
          "base_uri": "https://localhost:8080/"
        },
        "id": "8w6J5Ctzwo0O",
        "outputId": "3a355664-c6c9-401f-bd4a-41a34b5a68d7"
      },
      "execution_count": null,
      "outputs": [
        {
          "output_type": "stream",
          "name": "stdout",
          "text": [
            "17\n",
            "17\n",
            "9\n",
            "56674674687847874486787\n",
            "56674674687847874486796\n"
          ]
        }
      ]
    },
    {
      "cell_type": "code",
      "source": [
        "# tuple\n",
        "x = [1,2,3]\n",
        "y = (1,2,3)\n",
        "print(type(x),type(y))\n",
        "print(x[0],y[0])\n",
        "x[0]=100\n",
        "print(x)\n",
        "print(y,len(y))\n",
        "a=[1]\n",
        "print(a,type(a))\n",
        "a=(1)\n",
        "print(a,type(a))\n",
        "b = (1,)\n",
        "print(b,type(b))\n",
        "# tuple\n",
        "a=(1,2,3,4)\n",
        "print(a,type(a))\n",
        "a=(True,False,True,True)\n",
        "print(a,type(a))\n",
        "a=(1,2,0,True,\"x\",[10,20,30],(100,200,300))\n",
        "print(a,type(a))\n",
        "a=tuple((1,2,3,4,5,6))\n",
        "print(a,type(a))\n",
        "a=tuple((1,2,3,4,5,6))\n",
        "print(a,type(a))\n",
        "print(a[0],a[-1])\n",
        "print(a[2:4],a[-4:-1])\n",
        "print(5 in a)\n",
        "print(100 in a)\n",
        "\n",
        "a=tuple((1,2,3,4,5,6))\n",
        "b = list(a)\n",
        "b.append(1000)\n",
        "\n",
        "# make it to list type to append\n",
        "a= (1,2,3,4,5)\n",
        "b=(10,)\n",
        "a+=b\n",
        "print(a,b)\n",
        "\n",
        "a=(1,2,3,4,5)\n",
        "print(a*2)\n",
        "\n",
        "# del a[0]\n",
        "del b\n",
        "# print(b)\n",
        "\n",
        "\n",
        "a = [10,20]\n",
        "x,y=a\n",
        "print(a,x,y,type(a),type(x),type(y))\n",
        "\n",
        "a=(10,20)\n",
        "x,y=a\n",
        "print(a,x,y,type(a),type(x),type(y))"
      ],
      "metadata": {
        "colab": {
          "base_uri": "https://localhost:8080/"
        },
        "id": "EsO-Q66lthTM",
        "outputId": "96b2b2e0-6dfb-4c4d-bac7-f4b0b6a8ad0e"
      },
      "execution_count": null,
      "outputs": [
        {
          "output_type": "stream",
          "name": "stdout",
          "text": [
            "<class 'list'> <class 'tuple'>\n",
            "1 1\n",
            "[100, 2, 3]\n",
            "(1, 2, 3) 3\n",
            "[1] <class 'list'>\n",
            "1 <class 'int'>\n",
            "(1,) <class 'tuple'>\n",
            "(1, 2, 3, 4) <class 'tuple'>\n",
            "(True, False, True, True) <class 'tuple'>\n",
            "(1, 2, 0, True, 'x', [10, 20, 30], (100, 200, 300)) <class 'tuple'>\n",
            "(1, 2, 3, 4, 5, 6) <class 'tuple'>\n",
            "(1, 2, 3, 4, 5, 6) <class 'tuple'>\n",
            "1 6\n",
            "(3, 4) (3, 4, 5)\n",
            "True\n",
            "False\n",
            "(1, 2, 3, 4, 5, 10) (10,)\n",
            "(1, 2, 3, 4, 5, 1, 2, 3, 4, 5)\n",
            "[10, 20] 10 20 <class 'list'> <class 'int'> <class 'int'>\n",
            "(10, 20) 10 20 <class 'tuple'> <class 'int'> <class 'int'>\n"
          ]
        }
      ]
    },
    {
      "cell_type": "code",
      "source": [
        "a=(10,20) # unpacking\n",
        "(x,y)=a\n",
        "print(a,x,y,type(a),type(x),type(y))\n",
        "\n",
        "a=(10,20,30,40,50)\n",
        "(x,y,*z)=a\n",
        "print(a,x,y,z,type(a),type(x),type(y),type(z))\n",
        "# (x,y,z)=a\n",
        "# print(a,x,y,z,type(a),type(x),type(y),type(z))\n",
        "(x,y,*z)=a\n",
        "print(a,x,y,z,type(a),type(x),type(y),type(z))\n",
        "(*x,)=a\n",
        "(*x,)= a\n",
        "\n",
        "\n",
        "a=(10,20,30,40,50)\n",
        "for i in a :\n",
        "  print(i)\n",
        "\n",
        "for i in range(len(a)):\n",
        "  print(a[i])\n",
        "\n",
        "print(a*3)\n"
      ],
      "metadata": {
        "colab": {
          "base_uri": "https://localhost:8080/"
        },
        "id": "L1waciCcx_q4",
        "outputId": "ad9116cd-1cb9-4fbc-c1a6-d651b571ed44"
      },
      "execution_count": null,
      "outputs": [
        {
          "output_type": "stream",
          "name": "stdout",
          "text": [
            "(10, 20) 10 20 <class 'tuple'> <class 'int'> <class 'int'>\n",
            "(10, 20, 30, 40, 50) 10 20 [30, 40, 50] <class 'tuple'> <class 'int'> <class 'int'> <class 'list'>\n",
            "(10, 20, 30, 40, 50) 10 20 [30, 40, 50] <class 'tuple'> <class 'int'> <class 'int'> <class 'list'>\n",
            "10\n",
            "20\n",
            "30\n",
            "40\n",
            "50\n",
            "10\n",
            "20\n",
            "30\n",
            "40\n",
            "50\n",
            "(10, 20, 30, 40, 50, 10, 20, 30, 40, 50, 10, 20, 30, 40, 50)\n"
          ]
        }
      ]
    },
    {
      "cell_type": "code",
      "source": [
        "for i in range(len(a)):\n",
        "  print(a[i])\n",
        "\n",
        "print(a*3)\n",
        "b=a*3\n",
        "print(b.count(50))\n",
        "print(b.count(20))\n",
        "print(b.index(50))\n",
        "print(b.index(50))\n"
      ],
      "metadata": {
        "colab": {
          "base_uri": "https://localhost:8080/"
        },
        "id": "CZZ3Y_1-0Uy3",
        "outputId": "00e4aecd-6945-4a27-a877-13d2cb0e8cf3"
      },
      "execution_count": null,
      "outputs": [
        {
          "output_type": "stream",
          "name": "stdout",
          "text": [
            "10\n",
            "20\n",
            "30\n",
            "40\n",
            "50\n",
            "(10, 20, 30, 40, 50, 10, 20, 30, 40, 50, 10, 20, 30, 40, 50)\n",
            "3\n",
            "3\n",
            "4\n",
            "4\n"
          ]
        }
      ]
    },
    {
      "cell_type": "code",
      "source": [
        "# set\n",
        "# no duplicate elements allowed\n",
        "# it wont allow duplicate entries in set\n",
        "\n",
        "\n",
        "\n",
        "\n",
        "# examples\n",
        "# used to find unique words\n",
        "# from nlp in website wikipedia\n",
        "\n",
        "a = {1,2,3}\n",
        "print(a,type(a))\n",
        "\n",
        "a={1,2,1,3}\n",
        "print(a,type(a))\n",
        "\n",
        "a={True,True,False}\n",
        "print(a,type(a))\n",
        "\n",
        "a={10,2.0,\"x\",True,\"sandeep\",(\"l\",\"m\",\"n\"),False,True,1000}\n",
        "print(a,type(a),len(a))\n",
        "\n",
        "a = set((1,2,3,4,5,3,1))\n",
        "print(a,type(a),len(a))\n",
        "\n",
        "# the len of the set would only be unique elements\n",
        "\n",
        "print(1 in a)\n",
        "print(\"1\" in a)\n",
        "\n",
        "\n",
        "for i in a:\n",
        "  print(i)\n",
        "\n",
        "# print(a[0])\n",
        "# unique indexing so we cannot find out what is the order of the elements\n",
        "\n",
        "a.add(100)\n",
        "print(a)\n",
        "\n",
        "a.add(100)\n",
        "print(a)\n",
        "\n",
        "b=list(a)\n",
        "print(b)\n",
        "\n",
        "\n",
        "a={1,2,3}\n",
        "b={\"x\",\"y\",\"z\",\"x\"}\n",
        "a.update(b)\n",
        "print(a,b)\n",
        "\n",
        "\n",
        "a={1,2,3}\n",
        "b=[\"x\",\"y\",\"x\",\"z\"]\n",
        "a.update(b)\n",
        "print(a,b)\n",
        "\n",
        "b=(\"x\",\"y\",\"z\")\n",
        "a.update(b)\n",
        "print(a,b)\n",
        "\n",
        "a={\"x\",10,20.2,\"Aditya\"}\n",
        "a.remove(20.2)\n",
        "print(a)\n",
        "\n",
        "a={\"x\",10,20.2,\"Aditya\"}\n",
        "a.discard(20.2)\n",
        "print(a)\n",
        "\n",
        "\n",
        "a={\"x\",10, 20.2,\"Aditya\"}\n",
        "a.discard(20)\n",
        "\n",
        "a={\"x\",10,20.2,\"Aditya\"}\n",
        "a.pop()\n",
        "print(a)\n",
        "\n",
        "\n",
        "\n"
      ],
      "metadata": {
        "colab": {
          "base_uri": "https://localhost:8080/"
        },
        "id": "4Jz0Kje60mle",
        "outputId": "ccd53daf-bf8e-40b7-8608-a9cc3921982f"
      },
      "execution_count": null,
      "outputs": [
        {
          "output_type": "stream",
          "name": "stdout",
          "text": [
            "{1, 2, 3} <class 'set'>\n",
            "{1, 2, 3} <class 'set'>\n",
            "{False, True} <class 'set'>\n",
            "{False, True, 2.0, 'x', 'sandeep', 1000, 10, ('l', 'm', 'n')} <class 'set'> 8\n",
            "{1, 2, 3, 4, 5} <class 'set'> 5\n",
            "True\n",
            "False\n",
            "1\n",
            "2\n",
            "3\n",
            "4\n",
            "5\n",
            "{1, 2, 3, 4, 5, 100}\n",
            "{1, 2, 3, 4, 5, 100}\n",
            "[1, 2, 3, 4, 5, 100]\n",
            "{1, 2, 3, 'z', 'x', 'y'} {'y', 'z', 'x'}\n",
            "{1, 2, 3, 'x', 'z', 'y'} ['x', 'y', 'x', 'z']\n",
            "{1, 2, 3, 'x', 'z', 'y'} ('x', 'y', 'z')\n",
            "{10, 'Aditya', 'x'}\n",
            "{10, 'Aditya', 'x'}\n",
            "{'Aditya', 20.2, 'x'}\n"
          ]
        }
      ]
    },
    {
      "cell_type": "code",
      "source": [
        "a={\"x\",10,20.2,\"Aditya\"}\n",
        "print(a)\n",
        "b=list(a)\n",
        "b.pop(0)\n",
        "print(b)\n",
        "\n",
        "\n",
        "a={1,2,\"x\"}\n",
        "a.clear()\n",
        "print(a)\n",
        "\n",
        "a={1,2,3}\n",
        "b={\"x\",\"y\",\"z\",\"x\",1}\n",
        "c=a.union(b)\n",
        "print(c)\n",
        "\n",
        "c=a.intersection(b)\n",
        "print(c)\n",
        "\n",
        "c=a.symmetric_difference(b)\n",
        "print(c)\n",
        "\n"
      ],
      "metadata": {
        "colab": {
          "base_uri": "https://localhost:8080/"
        },
        "id": "l1kPum-h6LTr",
        "outputId": "39d5f726-3e2e-42b2-be61-e216fa0505aa"
      },
      "execution_count": null,
      "outputs": [
        {
          "output_type": "stream",
          "name": "stdout",
          "text": [
            "{10, 'Aditya', 20.2, 'x'}\n",
            "['Aditya', 20.2, 'x']\n",
            "set()\n",
            "{1, 2, 3, 'z', 'x', 'y'}\n",
            "{1}\n",
            "{2, 3, 'x', 'z', 'y'}\n"
          ]
        }
      ]
    },
    {
      "cell_type": "code",
      "source": [
        "# dictionaries\n",
        "\n",
        "\n",
        "# ordered ,key value pairs, noduplicates\n",
        "\n",
        "a={\"day\":\"Tuesday\",\"month\":\"October\",\"Year\":2023}\n",
        "print(a,type(a),len(a))\n",
        "print(a[\"day\"],a[\"Year\"])\n",
        "text = \"Hi Aditya\"\n",
        "\n",
        "\n",
        "# left to right assignment it will delete left most duplicate entry\n",
        "a={\"day\":\"Sunday\",\"Month\":\"October\",\"Year\":2023,\"day\":\"Sunday\"}\n",
        "print(a,a[\"day\"])\n",
        "\n",
        "a={\"name\":\"Aditya\",\"boolean\":True,\"year\":2021,\"sports\":[\"cricket\",\"football\",\"tennis\"]}\n",
        "print(a,type(a))\n",
        "print(a[\"name\"])\n",
        "\n",
        "\n",
        "\n",
        "a[\"name\"]=\"VJTI\"\n",
        "print(a)\n",
        "print(a.values(),type(a.values))\n",
        "\n",
        "b=a.values()\n",
        "print(b)\n",
        "\n",
        "b=a.values()\n",
        "print(b)\n",
        "a[\"name\"]=\"Mumbai\"\n",
        "print(a,b)\n",
        "\n",
        "print(a.items(),type(a.items()))\n",
        "\n",
        "a[\"name\"]=\"Maharashtra\"\n",
        "print(a,b)\n",
        "\n",
        "a[\"Country\"]=\"India\"\n",
        "print(a)\n",
        "print(\"Country\" in a)\n",
        "print(\"School\" in a)\n",
        "\n",
        "\n",
        "a.update({\"boolean\":False})\n",
        "print(a)\n",
        "a.update({\"District\":\"Mumbai\"})\n",
        "\n",
        "a={\"Name\":\"Aditya\",\"Boolean\":\"False\"}\n",
        "print(a)\n",
        "x=a.pop(\"Name\")\n",
        "\n",
        "print(x)\n",
        "\n",
        "x=a.popitem()\n",
        "print(x)\n",
        "\n",
        "a={\"name\":\"Aditya\",\"Boolean\":True,\"year\":2023}\n",
        "\n",
        "for i in a:\n",
        "  print(i)\n",
        "\n",
        "for i in a:\n",
        "  print(a[i])\n",
        "\n",
        "for i in a.keys():\n",
        "  print(i)\n",
        "for i in a.values():\n",
        "  print(i)\n",
        "\n",
        "for i,j in a.items():\n",
        "  print(i,j)"
      ],
      "metadata": {
        "colab": {
          "base_uri": "https://localhost:8080/"
        },
        "id": "0wC_KRyJ7y5o",
        "outputId": "6583e030-f178-4f92-df84-5a58c0e88fd2"
      },
      "execution_count": null,
      "outputs": [
        {
          "output_type": "stream",
          "name": "stdout",
          "text": [
            "{'day': 'Tuesday', 'month': 'October', 'Year': 2023} <class 'dict'> 3\n",
            "Tuesday 2023\n",
            "{'day': 'Sunday', 'Month': 'October', 'Year': 2023} Sunday\n",
            "{'name': 'Aditya', 'boolean': True, 'year': 2021, 'sports': ['cricket', 'football', 'tennis']} <class 'dict'>\n",
            "Aditya\n",
            "{'name': 'VJTI', 'boolean': True, 'year': 2021, 'sports': ['cricket', 'football', 'tennis']}\n",
            "dict_values(['VJTI', True, 2021, ['cricket', 'football', 'tennis']]) <class 'builtin_function_or_method'>\n",
            "dict_values(['VJTI', True, 2021, ['cricket', 'football', 'tennis']])\n",
            "dict_values(['VJTI', True, 2021, ['cricket', 'football', 'tennis']])\n",
            "{'name': 'Mumbai', 'boolean': True, 'year': 2021, 'sports': ['cricket', 'football', 'tennis']} dict_values(['Mumbai', True, 2021, ['cricket', 'football', 'tennis']])\n",
            "dict_items([('name', 'Mumbai'), ('boolean', True), ('year', 2021), ('sports', ['cricket', 'football', 'tennis'])]) <class 'dict_items'>\n",
            "{'name': 'Maharashtra', 'boolean': True, 'year': 2021, 'sports': ['cricket', 'football', 'tennis']} dict_values(['Maharashtra', True, 2021, ['cricket', 'football', 'tennis']])\n",
            "{'name': 'Maharashtra', 'boolean': True, 'year': 2021, 'sports': ['cricket', 'football', 'tennis'], 'Country': 'India'}\n",
            "True\n",
            "False\n",
            "{'name': 'Maharashtra', 'boolean': False, 'year': 2021, 'sports': ['cricket', 'football', 'tennis'], 'Country': 'India'}\n",
            "{'Name': 'Aditya', 'Boolean': 'False'}\n",
            "Aditya\n",
            "('Boolean', 'False')\n",
            "name\n",
            "Boolean\n",
            "year\n",
            "Aditya\n",
            "True\n",
            "2023\n",
            "name\n",
            "Boolean\n",
            "year\n",
            "Aditya\n",
            "True\n",
            "2023\n",
            "name Aditya\n",
            "Boolean True\n",
            "year 2023\n"
          ]
        }
      ]
    },
    {
      "cell_type": "code",
      "source": [
        "student = {\n",
        "    \"student1\":{\"name\":\"ABC\",\"rn\":220180076,\"AY\":2023},\n",
        "    \"student2\":{\"name\":\"ABC\",\"rn\":221080076,\"AY\":2022},\n",
        "    \"student3\":{\"name\":\"AC\",\"rn\":22080076,\"AY\":2022}\n",
        "}\n",
        "\n",
        "print(student)\n",
        "print(student[\"student1\"][\"rn\"])\n",
        "\n",
        "student1={\"name\":\"ABC\",\"rn\":220180076,\"AY\":2023}\n",
        "student2={\"name\":\"AC\",\"rn\":22080076,\"A\":23}\n",
        "student3={\"name\":\"AC\",\"rn\":22018076,\"Y\":223}\n",
        "\n",
        "student = {\n",
        "    \"Student1\":student1,\n",
        "    \"student2\":student2,\n",
        "    \"student3\":student3\n",
        "  }"
      ],
      "metadata": {
        "colab": {
          "base_uri": "https://localhost:8080/"
        },
        "id": "xpJUYxiyA3Jp",
        "outputId": "6bbe62d4-b25b-4b84-a435-74a7b2453b0a"
      },
      "execution_count": null,
      "outputs": [
        {
          "output_type": "stream",
          "name": "stdout",
          "text": [
            "{'student1': {'name': 'ABC', 'rn': 220180076, 'AY': 2023}, 'student2': {'name': 'ABC', 'rn': 221080076, 'AY': 2022}, 'student3': {'name': 'AC', 'rn': 22080076, 'AY': 2022}}\n",
            "220180076\n"
          ]
        }
      ]
    },
    {
      "cell_type": "code",
      "source": [
        "# conditional statements\n",
        "a,b,c=1,2,3\n",
        "if a<b:\n",
        "  print(a)\n",
        "\n",
        "if b<a:\n",
        "  print(a)\n",
        "elif c>a:\n",
        "  print(c)\n",
        "\n",
        "if a<b:print(a)\n",
        "\n",
        "print(a) if a<b else print(b)\n",
        "print(a) if a>b else print(b)\n",
        "\n",
        "\n",
        "\n",
        "if a<b:\n",
        "  pass\n",
        "  print(\"I am pass away\")\n",
        "\n",
        "\n",
        "for i in range(0,5):\n",
        "  if i==2:\n",
        "    break\n",
        "  else:\n",
        "    print(i)\n",
        "\n",
        "for i in range(0,5):\n",
        "  if i==2:\n",
        "    continue\n",
        "  else:\n",
        "    print(i)\n",
        "\n",
        "for i in range(0,5):\n",
        "  if i==2:\n",
        "    pass\n",
        "  else:\n",
        "    print(i)\n",
        "\n",
        "\n",
        "for i in range(0,5):\n",
        "  if i==2:\n",
        "    continue\n",
        "  else:\n",
        "    print(i)\n",
        "else:\n",
        "  print(\"Finish\")"
      ],
      "metadata": {
        "colab": {
          "base_uri": "https://localhost:8080/"
        },
        "id": "yBo59F2QH1kd",
        "outputId": "6c78346b-473c-4958-bc96-b85b8fd6a6bf"
      },
      "execution_count": null,
      "outputs": [
        {
          "output_type": "stream",
          "name": "stdout",
          "text": [
            "1\n",
            "3\n",
            "1\n",
            "1\n",
            "2\n",
            "I am pass away\n",
            "0\n",
            "1\n",
            "0\n",
            "1\n",
            "3\n",
            "4\n",
            "0\n",
            "1\n",
            "3\n",
            "4\n",
            "0\n",
            "1\n",
            "3\n",
            "4\n",
            "Finish\n"
          ]
        }
      ]
    },
    {
      "cell_type": "code",
      "source": [
        "# lambda function\n",
        "# lambda arguments : function\n",
        "\n",
        "import gtts\n",
        "\n",
        "a= lambda x : x*2\n",
        "print(a(2))\n",
        "\n",
        "def first_function(*name):\n",
        "  print(\"Name: \"+name[0],name[1],name[2])\n",
        "\n",
        "def first_function(fname,mname,lname):\n",
        "  print(\"Name : \"+fname,mname,lname)\n",
        "\n",
        "first_function(fname=\"Aditya\",mname = \"Maruti\",lname=\"Yedurkar\")\n",
        "\n",
        "\n",
        "def first_function():\n",
        "  pass\n",
        "\n",
        "first_function()\n",
        "\n",
        "\n",
        "a=lambda x:x*2\n",
        "print(a(2))\n",
        "\n",
        "a=lambda x,y,z:x*y*z\n",
        "print(a(1,2,3))\n",
        "\n",
        "def myfunc(n):\n",
        "  return lambda a:a*n\n",
        "\n",
        "mytripler = myfunc(3)\n",
        "\n",
        "print(mytripler(11))\n",
        "\n",
        "\n",
        "\n",
        "\n"
      ],
      "metadata": {
        "colab": {
          "base_uri": "https://localhost:8080/"
        },
        "id": "EPoqNsZGMEjQ",
        "outputId": "6927bd66-89a7-4ba1-9e4a-7374cef9bf3c"
      },
      "execution_count": null,
      "outputs": [
        {
          "output_type": "stream",
          "name": "stdout",
          "text": [
            "4\n",
            "Name : Aditya Maruti Yedurkar\n",
            "4\n",
            "6\n",
            "33\n"
          ]
        }
      ]
    },
    {
      "cell_type": "code",
      "source": [
        "# map\n",
        "import gtts\n",
        "\n",
        "def addition(n):\n",
        "  return n+n\n",
        "\n",
        "numbers = (1,2,3,4)\n",
        "result = map(addition,numbers)\n",
        "print(list(result))\n",
        "text = \"Aditya\"\n",
        "language = 'en'\n",
        "myobj = gtts.gTTS(text=text, lang=language, slow=False)\n",
        "myobj.save(\"welcome1.mp3\")\n",
        "\n",
        "\n"
      ],
      "metadata": {
        "colab": {
          "base_uri": "https://localhost:8080/"
        },
        "id": "3C9YBxFmOmK0",
        "outputId": "545cebf1-63c9-438d-80c9-d69b10b1c73b"
      },
      "execution_count": null,
      "outputs": [
        {
          "output_type": "stream",
          "name": "stdout",
          "text": [
            "[2, 4, 6, 8]\n"
          ]
        }
      ]
    },
    {
      "cell_type": "markdown",
      "source": [],
      "metadata": {
        "id": "1NHoTMlxPzR8"
      }
    },
    {
      "cell_type": "code",
      "source": [
        "\n",
        "\n"
      ],
      "metadata": {
        "id": "GB6k9PETPpyf"
      },
      "execution_count": null,
      "outputs": []
    },
    {
      "cell_type": "code",
      "source": [],
      "metadata": {
        "colab": {
          "base_uri": "https://localhost:8080/"
        },
        "id": "McyiqMb9OB1g",
        "outputId": "b43e436d-670e-49e5-9fc3-c654880e3f31"
      },
      "execution_count": null,
      "outputs": [
        {
          "output_type": "stream",
          "name": "stdout",
          "text": [
            "Collecting gtts\n",
            "  Downloading gTTS-2.3.2-py3-none-any.whl (28 kB)\n",
            "Requirement already satisfied: requests<3,>=2.27 in /usr/local/lib/python3.10/dist-packages (from gtts) (2.31.0)\n",
            "Requirement already satisfied: click<8.2,>=7.1 in /usr/local/lib/python3.10/dist-packages (from gtts) (8.1.7)\n",
            "Requirement already satisfied: charset-normalizer<4,>=2 in /usr/local/lib/python3.10/dist-packages (from requests<3,>=2.27->gtts) (3.2.0)\n",
            "Requirement already satisfied: idna<4,>=2.5 in /usr/local/lib/python3.10/dist-packages (from requests<3,>=2.27->gtts) (3.4)\n",
            "Requirement already satisfied: urllib3<3,>=1.21.1 in /usr/local/lib/python3.10/dist-packages (from requests<3,>=2.27->gtts) (2.0.4)\n",
            "Requirement already satisfied: certifi>=2017.4.17 in /usr/local/lib/python3.10/dist-packages (from requests<3,>=2.27->gtts) (2023.7.22)\n",
            "Installing collected packages: gtts\n",
            "Successfully installed gtts-2.3.2\n"
          ]
        }
      ]
    },
    {
      "cell_type": "code",
      "source": [
        "# filter\n",
        "# filters each method\n",
        "\n",
        "def fun(variable):\n",
        "  letters = [\"a\",\"e\",\"i\",\"o\",\"u\"]\n",
        "  if (variable in letters):\n",
        "    return True\n",
        "  else:\n",
        "    return False\n",
        "# sequence\n",
        "sequence = [\"e\",\"f\",\"t\",\"r\",\"q\",\"a\",\"e\",\"i\",\"o\"]\n",
        "\n",
        "filtered = filter(fun,sequence)\n",
        "print(filtered)\n",
        "\n",
        "print(list(filtered))\n",
        "\n",
        "for s in filtered:\n",
        "  print(s)\n",
        "seq = [0,1,2,3]\n",
        "result = filter(lambda x:x%2!=0,seq)\n",
        "print(list(result))\n",
        "\n",
        "\n",
        "# reduce (fun,seq) function is used to apply a particular fn passed in its argument to all of the list elemtns mentioned in the sequence passed alonf this function is defined in functools modules\n",
        "\n",
        "import functools\n",
        "\n",
        "\n",
        "\n",
        "\n",
        "lis = [1,3,4,5,6]\n",
        "\n",
        "\n",
        "\n",
        "\n"
      ],
      "metadata": {
        "colab": {
          "base_uri": "https://localhost:8080/"
        },
        "id": "sEX6-mInQPRA",
        "outputId": "d8e55c0a-d8ad-4737-f798-7596d8334826"
      },
      "execution_count": null,
      "outputs": [
        {
          "output_type": "stream",
          "name": "stdout",
          "text": [
            "<filter object at 0x7fae3e094c40>\n",
            "['e', 'a', 'e', 'i', 'o']\n",
            "[1, 3]\n"
          ]
        }
      ]
    },
    {
      "cell_type": "code",
      "source": [
        "import functools\n",
        "lis = [1,3,5,6,2]\n",
        "\n",
        "print(functools.reduce(lambda a,b:a+b,lis))\n",
        "\n",
        "\n",
        "print(functools.reduce(lambda a,b:a if a>b else b,lis))\n",
        "\n"
      ],
      "metadata": {
        "id": "SimvxLJCTDPM",
        "colab": {
          "base_uri": "https://localhost:8080/"
        },
        "outputId": "843bef90-b549-43ad-f87c-a089dcee9145"
      },
      "execution_count": null,
      "outputs": [
        {
          "output_type": "stream",
          "name": "stdout",
          "text": [
            "17\n",
            "6\n"
          ]
        }
      ]
    },
    {
      "cell_type": "code",
      "source": [
        "\n",
        "def Collatz(n):\n",
        "\n",
        "  flag1 = True\n",
        "  flag2 = True\n",
        "  flag3 = True\n",
        "\n",
        "\n",
        "  while flag1 or flag2 or flag3:\n",
        "-\n",
        "    if n%2==0:\n",
        "      n/=2\n",
        "      print(int(n))\n",
        "    else:\n",
        "      n*=3\n",
        "      n+=1\n",
        "      print(int(n))\n",
        "    if n==4:\n",
        "      flag1=False\n",
        "    elif n==2:\n",
        "      flag2=False\n",
        "    elif n==1:\n",
        "      flag3=False\n",
        "  # if flag4:\n",
        "  #     print(1)\n",
        "\n",
        "Collatz(10)\n",
        "print()\n",
        "Collatz(1)\n",
        "print()\n",
        "Collatz(2)"
      ],
      "metadata": {
        "colab": {
          "base_uri": "https://localhost:8080/"
        },
        "id": "3-EoJQ1S0x74",
        "outputId": "3f5d7dee-1619-4960-8cd8-df63d4f6f75e"
      },
      "execution_count": null,
      "outputs": [
        {
          "output_type": "stream",
          "name": "stdout",
          "text": [
            "5\n",
            "16\n",
            "8\n",
            "4\n",
            "2\n",
            "1\n",
            "\n",
            "4\n",
            "2\n",
            "1\n",
            "\n",
            "1\n",
            "4\n",
            "2\n"
          ]
        }
      ]
    },
    {
      "cell_type": "code",
      "source": [
        "\n",
        "def Collatz(n):\n",
        "\n",
        "  flag1 = True\n",
        "  flag2 = True\n",
        "  flag3 = True\n",
        "  while flag1 or flag2 or flag3:\n",
        "    if n%2==0:\n",
        "      n/=2\n",
        "      print(int(n))\n",
        "    else:\n",
        "      n*=3\n",
        "      n+=1\n",
        "      print(int(n))\n",
        "    if n==4:\n",
        "      flag1=False\n",
        "    elif not flag1 and n==2:\n",
        "      flag2=False\n",
        "    elif not flag1 and not flag2 and n==1:\n",
        "      flag3=False\n",
        "\n",
        "\n",
        "\n",
        "Collatz(10)\n",
        "print()\n",
        "Collatz(2)\n",
        "print()\n",
        "Collatz(4)"
      ],
      "metadata": {
        "colab": {
          "base_uri": "https://localhost:8080/"
        },
        "id": "96_KfdS879h1",
        "outputId": "b79d4ed4-2a7a-48a7-dcb5-6107679f32f4"
      },
      "execution_count": null,
      "outputs": [
        {
          "output_type": "stream",
          "name": "stdout",
          "text": [
            "5\n",
            "16\n",
            "8\n",
            "4\n",
            "2\n",
            "1\n",
            "\n",
            "1\n",
            "4\n",
            "2\n",
            "1\n",
            "\n",
            "2\n",
            "1\n",
            "4\n",
            "2\n",
            "1\n"
          ]
        }
      ]
    },
    {
      "cell_type": "code",
      "source": [
        "def Collatz(n):\n",
        "  li = []\n",
        "  while 1==1:\n",
        "    if n%2==0:\n",
        "      n/=2\n",
        "      print(int(n))\n",
        "    else:\n",
        "      n*=3\n",
        "      n+=1\n",
        "      print(int(n))\n",
        "    if n==4:\n",
        "      li.append(4)\n",
        "    elif li==[4] and n==2:\n",
        "      li.append(2)\n",
        "    elif li==[4,2] and n==1:\n",
        "      break\n",
        "n = int(input(\"enter number: \"))\n",
        "Collatz(n)"
      ],
      "metadata": {
        "colab": {
          "base_uri": "https://localhost:8080/"
        },
        "id": "idbJ8gYv-L2C",
        "outputId": "e7824700-192d-4d89-9a26-c76af77402db"
      },
      "execution_count": null,
      "outputs": [
        {
          "output_type": "stream",
          "name": "stdout",
          "text": [
            "enter number: 10\n",
            "5\n",
            "16\n",
            "8\n",
            "4\n",
            "2\n",
            "1\n"
          ]
        }
      ]
    },
    {
      "cell_type": "code",
      "source": [
        "a=[1,2,3,4]\n",
        "while len(a)>1:\n",
        "  a[len(a)-2]=a[len(a)-1]*a[len(a)-2]\n",
        "  a.pop()\n",
        "print(a[0])"
      ],
      "metadata": {
        "colab": {
          "base_uri": "https://localhost:8080/"
        },
        "id": "9cc5xqMRS5UM",
        "outputId": "57b29ac2-3f27-4d50-93d4-5494eb5d9dfc"
      },
      "execution_count": null,
      "outputs": [
        {
          "output_type": "stream",
          "name": "stdout",
          "text": [
            "24\n"
          ]
        }
      ]
    },
    {
      "cell_type": "code",
      "source": [
        "def overlap(a):\n",
        "  if len(a)==1:\n",
        "    print(a[0])\n",
        "    return\n",
        "  a[-2]=a[-1]*a[-2]\n",
        "  a.pop()\n",
        "  overlap(a)\n",
        "\n",
        "\n",
        "a=[1,2,3,4]\n",
        "overlap(a)"
      ],
      "metadata": {
        "colab": {
          "base_uri": "https://localhost:8080/"
        },
        "id": "A4QCzfb8VC5P",
        "outputId": "9c8ffcd6-3980-4c9d-c451-96efa7920b2a"
      },
      "execution_count": null,
      "outputs": [
        {
          "output_type": "stream",
          "name": "stdout",
          "text": [
            "24\n"
          ]
        }
      ]
    },
    {
      "cell_type": "code",
      "source": [
        "def add(x,y):\n",
        "  '''\n",
        "  (int,int)--> int\n",
        "\n",
        "\n",
        "  Return the addition of two integers\n",
        "\n",
        "  >>> add(1,2)\n",
        "\n",
        "  '''\n",
        "\n",
        "  return int(x) + int(y)\n",
        "\n",
        "\n",
        "print(add(100.1 , 100))\n",
        "help(add)"
      ],
      "metadata": {
        "colab": {
          "base_uri": "https://localhost:8080/"
        },
        "id": "CNewkGJC6NkC",
        "outputId": "43f52c90-a90f-4579-b4d4-752ac3bc0e22"
      },
      "execution_count": null,
      "outputs": [
        {
          "output_type": "stream",
          "name": "stdout",
          "text": [
            "200\n",
            "Help on function add in module __main__:\n",
            "\n",
            "add(x, y)\n",
            "    (int,int)--> int\n",
            "    \n",
            "    \n",
            "    Return the addition of two integers\n",
            "\n"
          ]
        }
      ]
    },
    {
      "cell_type": "code",
      "source": [
        "def abc():\n",
        "  x=1\n",
        "  print(x)\n",
        "\n",
        "abc()\n",
        "# print(abc())"
      ],
      "metadata": {
        "colab": {
          "base_uri": "https://localhost:8080/"
        },
        "id": "xBNIqofg7OKc",
        "outputId": "1f002df0-01a5-470d-baef-3abe7a2d4379"
      },
      "execution_count": null,
      "outputs": [
        {
          "output_type": "stream",
          "name": "stdout",
          "text": [
            "1\n"
          ]
        }
      ]
    },
    {
      "cell_type": "code",
      "source": [
        "# scope of variable is global\n",
        "\n",
        "# same variable name can be used\n",
        "x=1\n",
        "def abc():\n",
        "  print(x)\n",
        "\n",
        "abc()\n",
        "x+=1\n",
        "abc()"
      ],
      "metadata": {
        "colab": {
          "base_uri": "https://localhost:8080/"
        },
        "id": "ksOWUSQP7vgD",
        "outputId": "fd4b0f61-11e4-4b96-fbc8-be605499481c"
      },
      "execution_count": null,
      "outputs": [
        {
          "output_type": "stream",
          "name": "stdout",
          "text": [
            "1\n",
            "2\n"
          ]
        }
      ]
    },
    {
      "cell_type": "code",
      "source": [
        "x=100\n",
        "\n",
        "def abc():\n",
        "  x=1\n",
        "  print(x) # local reassignment\n",
        "\n",
        "abc()\n",
        "print(x)"
      ],
      "metadata": {
        "colab": {
          "base_uri": "https://localhost:8080/"
        },
        "id": "KGHhZZEg8Db8",
        "outputId": "ffdba85d-2308-493a-e65a-5ce82c9be083"
      },
      "execution_count": null,
      "outputs": [
        {
          "output_type": "stream",
          "name": "stdout",
          "text": [
            "1\n",
            "100\n"
          ]
        }
      ]
    },
    {
      "cell_type": "code",
      "source": [
        "def abc():\n",
        "  global x\n",
        "  x=1\n",
        "  print(x)\n",
        "\n",
        "abc()\n",
        "x=100\n",
        "print(x)\n",
        "abc()"
      ],
      "metadata": {
        "colab": {
          "base_uri": "https://localhost:8080/"
        },
        "id": "R2L5X8u18bWb",
        "outputId": "b53275ce-4ee4-4f5e-d99c-5158d7c63248"
      },
      "execution_count": null,
      "outputs": [
        {
          "output_type": "stream",
          "name": "stdout",
          "text": [
            "1\n",
            "100\n",
            "1\n"
          ]
        }
      ]
    },
    {
      "cell_type": "code",
      "source": [
        "import time\n",
        "a=(\"xyz\",\"lmn\",\"def\")\n",
        "b = iter(a)\n",
        "start = time.time()\n",
        "print(next(b))\n",
        "print(next(b))\n",
        "print(next(b))\n",
        "print(time.time()-start)\n",
        "\n",
        "\n",
        "\n",
        "start1 = time.time()\n",
        "for i in range(len(a)):\n",
        "  print(a[i])\n",
        "print(time.time()-start1)"
      ],
      "metadata": {
        "colab": {
          "base_uri": "https://localhost:8080/"
        },
        "id": "FaT3hyC58nAC",
        "outputId": "91486509-8098-4494-c160-1d9968d88042"
      },
      "execution_count": null,
      "outputs": [
        {
          "output_type": "stream",
          "name": "stdout",
          "text": [
            "xyz\n",
            "lmn\n",
            "def\n",
            "0.00043129920959472656\n",
            "xyz\n",
            "lmn\n",
            "def\n",
            "0.00018739700317382812\n"
          ]
        }
      ]
    },
    {
      "cell_type": "code",
      "source": [
        "try:\n",
        "  print(1/0)\n",
        "except:\n",
        "  print(\"Error: x is not defined\")"
      ],
      "metadata": {
        "colab": {
          "base_uri": "https://localhost:8080/"
        },
        "id": "uSQqt4FI9Tlv",
        "outputId": "dc88eca7-6955-45bb-822f-eb66ab348bc1"
      },
      "execution_count": null,
      "outputs": [
        {
          "output_type": "stream",
          "name": "stdout",
          "text": [
            "Error: x is not defined\n"
          ]
        }
      ]
    },
    {
      "cell_type": "code",
      "source": [
        "try:\n",
        "  # print(x1)\n",
        "  print(1/0)\n",
        "  print(x)\n",
        "except NameError:\n",
        "  print(\"Name: x is not defined\")\n",
        "except:\n",
        "  print(\"Other Error\")"
      ],
      "metadata": {
        "colab": {
          "base_uri": "https://localhost:8080/"
        },
        "id": "7M6648Fm-Phb",
        "outputId": "20a51a3a-2c20-435c-9cbd-fd6d16eb1299"
      },
      "execution_count": null,
      "outputs": [
        {
          "output_type": "stream",
          "name": "stdout",
          "text": [
            "Other Error\n"
          ]
        }
      ]
    },
    {
      "cell_type": "code",
      "source": [
        "try:\n",
        "  # print(x1)\n",
        "  print(1)\n",
        "  print(x)\n",
        "except:\n",
        "  print(\"Name: x is not defined\")\n",
        "else:\n",
        "  print(\"VJTI\")"
      ],
      "metadata": {
        "colab": {
          "base_uri": "https://localhost:8080/"
        },
        "id": "FFd0RSN4-_rI",
        "outputId": "552eb0c0-1a32-4c48-ca0a-96921806c10d"
      },
      "execution_count": null,
      "outputs": [
        {
          "output_type": "stream",
          "name": "stdout",
          "text": [
            "1\n",
            "Name: x is not defined\n"
          ]
        }
      ]
    },
    {
      "cell_type": "code",
      "source": [
        "try:\n",
        "  # print(x1)\n",
        "  print(1/0)\n",
        "  print(x)\n",
        "except:\n",
        "  print(\"Name: x is not defined\")\n",
        "else:\n",
        "  print(\"VJTI\")\n",
        "finally:\n",
        "  print(\"Executed on error\")"
      ],
      "metadata": {
        "colab": {
          "base_uri": "https://localhost:8080/"
        },
        "id": "zzMQfUZi_In8",
        "outputId": "6eb21c0c-00d7-4b97-be9a-712fef0d1a54"
      },
      "execution_count": null,
      "outputs": [
        {
          "output_type": "stream",
          "name": "stdout",
          "text": [
            "Name: x is not defined\n",
            "Executed on error\n"
          ]
        }
      ]
    },
    {
      "cell_type": "code",
      "source": [
        "while True:\n",
        "  try:\n",
        "    x = int(input(\"Please enter a number :\"))\n",
        "    break\n",
        "  except ValueError:\n",
        "    print(\"Oops that was not a valid number try again\")\n",
        "\n",
        "print(int(x))"
      ],
      "metadata": {
        "colab": {
          "base_uri": "https://localhost:8080/"
        },
        "id": "Nuq2Az3y_tlC",
        "outputId": "8a01c2fa-a320-4261-96e8-d913b8b07c37"
      },
      "execution_count": null,
      "outputs": [
        {
          "output_type": "stream",
          "name": "stdout",
          "text": [
            "Please enter a number :1.0\n",
            "Oops that was not a valid number try again\n",
            "Please enter a number :1\n",
            "1\n"
          ]
        }
      ]
    },
    {
      "cell_type": "code",
      "source": [
        "try:\n",
        "  x=int(input(\"Please enter a number: \"))\n",
        "  y=x/0\n",
        "except ValueError:\n",
        "  print(\"Oops! That was no valid number. Try again....\")"
      ],
      "metadata": {
        "colab": {
          "base_uri": "https://localhost:8080/"
        },
        "id": "acfsUpcYBJNq",
        "outputId": "4aa4f02d-ffcb-4496-e94a-d02f998cf311"
      },
      "execution_count": null,
      "outputs": [
        {
          "output_type": "stream",
          "name": "stdout",
          "text": [
            "Please enter a number: 1.2\n",
            "Oops! That was no valid number. Try again....\n"
          ]
        }
      ]
    },
    {
      "cell_type": "code",
      "source": [
        "import math\n",
        "def square(x):\n",
        "  if int(x)==0:\n",
        "    raise ValueError(\"input argument cannot be zero\")\n",
        "  if int(x)<0:\n",
        "    raise TypeError(\"Input argument must be positive integer\")\n",
        "  return int(math.pow(int(x),2))\n",
        "\n",
        "try:\n",
        "  y=square(input(\"Please enter a number : \"))\n",
        "  print(y)\n",
        "except(ValueError,TypeError) as e:\n",
        "  print(type(e),\"::\",e)"
      ],
      "metadata": {
        "colab": {
          "base_uri": "https://localhost:8080/"
        },
        "id": "jNH5KhoYBuUk",
        "outputId": "0acf4460-2e92-4e08-e723-5d08c273d85e"
      },
      "execution_count": null,
      "outputs": [
        {
          "output_type": "stream",
          "name": "stdout",
          "text": [
            "Please enter a number : -3\n",
            "<class 'TypeError'> :: Input argument must be positive integer\n"
          ]
        }
      ]
    },
    {
      "cell_type": "code",
      "source": [
        "x=-1\n",
        "if x<0:\n",
        "  raise Exception(\"Input argument must be positive error\")\n",
        "\n"
      ],
      "metadata": {
        "colab": {
          "base_uri": "https://localhost:8080/",
          "height": 212
        },
        "id": "yyRHzJRpD8wO",
        "outputId": "2d7d901c-2a50-47e7-d694-0900ea760b67"
      },
      "execution_count": null,
      "outputs": [
        {
          "output_type": "error",
          "ename": "Exception",
          "evalue": "ignored",
          "traceback": [
            "\u001b[0;31m---------------------------------------------------------------------------\u001b[0m",
            "\u001b[0;31mException\u001b[0m                                 Traceback (most recent call last)",
            "\u001b[0;32m<ipython-input-24-b16a01dfda4c>\u001b[0m in \u001b[0;36m<cell line: 2>\u001b[0;34m()\u001b[0m\n\u001b[1;32m      1\u001b[0m \u001b[0mx\u001b[0m\u001b[0;34m=\u001b[0m\u001b[0;34m-\u001b[0m\u001b[0;36m1\u001b[0m\u001b[0;34m\u001b[0m\u001b[0;34m\u001b[0m\u001b[0m\n\u001b[1;32m      2\u001b[0m \u001b[0;32mif\u001b[0m \u001b[0mx\u001b[0m\u001b[0;34m<\u001b[0m\u001b[0;36m0\u001b[0m\u001b[0;34m:\u001b[0m\u001b[0;34m\u001b[0m\u001b[0;34m\u001b[0m\u001b[0m\n\u001b[0;32m----> 3\u001b[0;31m   \u001b[0;32mraise\u001b[0m \u001b[0mException\u001b[0m\u001b[0;34m(\u001b[0m\u001b[0;34m\"Input argument must be positive error\"\u001b[0m\u001b[0;34m)\u001b[0m\u001b[0;34m\u001b[0m\u001b[0;34m\u001b[0m\u001b[0m\n\u001b[0m",
            "\u001b[0;31mException\u001b[0m: Input argument must be positive error"
          ]
        }
      ]
    },
    {
      "cell_type": "code",
      "source": [
        "import sys\n",
        "randomList=[\"A\",0,2]\n",
        "\n",
        "for entry in randomList:\n",
        "  try:\n",
        "    print(\"The entry is : \",entry)\n",
        "    r1=1/int(entry)\n",
        "    print(\"the reciprocal of \",entry,\"Is\",r1)\n",
        "    break;\n",
        "  except:\n",
        "    print(sys.exc_info())\n",
        "    print(\"Oops!\",sys.exc_info()[0],\"Occured\")\n",
        "    print(\"Next entry\")\n",
        "    print()"
      ],
      "metadata": {
        "colab": {
          "base_uri": "https://localhost:8080/"
        },
        "id": "Hva3D9R2Ep5c",
        "outputId": "0cde33c9-d0f0-4bdd-99c3-a38415d9a165"
      },
      "execution_count": null,
      "outputs": [
        {
          "output_type": "stream",
          "name": "stdout",
          "text": [
            "The entry is :  A\n",
            "(<class 'ValueError'>, ValueError(\"invalid literal for int() with base 10: 'A'\"), <traceback object at 0x7c7a4600c6c0>)\n",
            "Oops! <class 'ValueError'> Occured\n",
            "Next entry\n",
            "\n",
            "The entry is :  0\n",
            "(<class 'ZeroDivisionError'>, ZeroDivisionError('division by zero'), <traceback object at 0x7c7a4600c6c0>)\n",
            "Oops! <class 'ZeroDivisionError'> Occured\n",
            "Next entry\n",
            "\n",
            "The entry is :  2\n",
            "the reciprocal of  2 Is 0.5\n"
          ]
        }
      ]
    },
    {
      "cell_type": "code",
      "source": [
        "import json"
      ],
      "metadata": {
        "id": "si9O63bVGM0d"
      },
      "execution_count": null,
      "outputs": []
    },
    {
      "cell_type": "code",
      "source": [
        "import json\n",
        "x={\"name\":\"Aditya\",\"inst\":\"VJTI\",\"student\":\"221080076\"}\n",
        "y = json.loads(x)\n",
        "print(y[\"name\"])"
      ],
      "metadata": {
        "colab": {
          "base_uri": "https://localhost:8080/",
          "height": 368
        },
        "id": "MZM6vuu6GTSk",
        "outputId": "928a0d4b-24e1-47e8-b2f5-9cf6bdefbba7"
      },
      "execution_count": null,
      "outputs": [
        {
          "output_type": "error",
          "ename": "TypeError",
          "evalue": "ignored",
          "traceback": [
            "\u001b[0;31m---------------------------------------------------------------------------\u001b[0m",
            "\u001b[0;31mTypeError\u001b[0m                                 Traceback (most recent call last)",
            "\u001b[0;32m<ipython-input-42-d54a0190c67c>\u001b[0m in \u001b[0;36m<cell line: 3>\u001b[0;34m()\u001b[0m\n\u001b[1;32m      1\u001b[0m \u001b[0;32mimport\u001b[0m \u001b[0mjson\u001b[0m\u001b[0;34m\u001b[0m\u001b[0;34m\u001b[0m\u001b[0m\n\u001b[1;32m      2\u001b[0m \u001b[0mx\u001b[0m\u001b[0;34m=\u001b[0m\u001b[0;34m{\u001b[0m\u001b[0;34m\"name\"\u001b[0m\u001b[0;34m:\u001b[0m\u001b[0;34m\"Aditya\"\u001b[0m\u001b[0;34m,\u001b[0m\u001b[0;34m\"inst\"\u001b[0m\u001b[0;34m:\u001b[0m\u001b[0;34m\"VJTI\"\u001b[0m\u001b[0;34m,\u001b[0m\u001b[0;34m\"student\"\u001b[0m\u001b[0;34m:\u001b[0m\u001b[0;34m\"221080076\"\u001b[0m\u001b[0;34m}\u001b[0m\u001b[0;34m\u001b[0m\u001b[0;34m\u001b[0m\u001b[0m\n\u001b[0;32m----> 3\u001b[0;31m \u001b[0my\u001b[0m \u001b[0;34m=\u001b[0m \u001b[0mjson\u001b[0m\u001b[0;34m.\u001b[0m\u001b[0mloads\u001b[0m\u001b[0;34m(\u001b[0m\u001b[0mx\u001b[0m\u001b[0;34m)\u001b[0m\u001b[0;34m\u001b[0m\u001b[0;34m\u001b[0m\u001b[0m\n\u001b[0m\u001b[1;32m      4\u001b[0m \u001b[0mprint\u001b[0m\u001b[0;34m(\u001b[0m\u001b[0my\u001b[0m\u001b[0;34m[\u001b[0m\u001b[0;34m\"name\"\u001b[0m\u001b[0;34m]\u001b[0m\u001b[0;34m)\u001b[0m\u001b[0;34m\u001b[0m\u001b[0;34m\u001b[0m\u001b[0m\n",
            "\u001b[0;32m/usr/lib/python3.10/json/__init__.py\u001b[0m in \u001b[0;36mloads\u001b[0;34m(s, cls, object_hook, parse_float, parse_int, parse_constant, object_pairs_hook, **kw)\u001b[0m\n\u001b[1;32m    337\u001b[0m     \u001b[0;32melse\u001b[0m\u001b[0;34m:\u001b[0m\u001b[0;34m\u001b[0m\u001b[0;34m\u001b[0m\u001b[0m\n\u001b[1;32m    338\u001b[0m         \u001b[0;32mif\u001b[0m \u001b[0;32mnot\u001b[0m \u001b[0misinstance\u001b[0m\u001b[0;34m(\u001b[0m\u001b[0ms\u001b[0m\u001b[0;34m,\u001b[0m \u001b[0;34m(\u001b[0m\u001b[0mbytes\u001b[0m\u001b[0;34m,\u001b[0m \u001b[0mbytearray\u001b[0m\u001b[0;34m)\u001b[0m\u001b[0;34m)\u001b[0m\u001b[0;34m:\u001b[0m\u001b[0;34m\u001b[0m\u001b[0;34m\u001b[0m\u001b[0m\n\u001b[0;32m--> 339\u001b[0;31m             raise TypeError(f'the JSON object must be str, bytes or bytearray, '\n\u001b[0m\u001b[1;32m    340\u001b[0m                             f'not {s.__class__.__name__}')\n\u001b[1;32m    341\u001b[0m         \u001b[0ms\u001b[0m \u001b[0;34m=\u001b[0m \u001b[0ms\u001b[0m\u001b[0;34m.\u001b[0m\u001b[0mdecode\u001b[0m\u001b[0;34m(\u001b[0m\u001b[0mdetect_encoding\u001b[0m\u001b[0;34m(\u001b[0m\u001b[0ms\u001b[0m\u001b[0;34m)\u001b[0m\u001b[0;34m,\u001b[0m \u001b[0;34m'surrogatepass'\u001b[0m\u001b[0;34m)\u001b[0m\u001b[0;34m\u001b[0m\u001b[0;34m\u001b[0m\u001b[0m\n",
            "\u001b[0;31mTypeError\u001b[0m: the JSON object must be str, bytes or bytearray, not dict"
          ]
        }
      ]
    },
    {
      "cell_type": "code",
      "source": [
        "x = {\"name\":\"Aditya\",\"inst\":\"vjti\",\"student\":221080076}\n",
        "print(type(x))\n",
        "\n",
        "y=json.dumps(x)\n",
        "\n",
        "print(y,type(y))"
      ],
      "metadata": {
        "colab": {
          "base_uri": "https://localhost:8080/"
        },
        "id": "Ckat5RjkHU0l",
        "outputId": "35af7946-5055-467a-fffe-e85b1a002871"
      },
      "execution_count": null,
      "outputs": [
        {
          "output_type": "stream",
          "name": "stdout",
          "text": [
            "<class 'dict'>\n",
            "{\"name\": \"Aditya\", \"inst\": \"vjti\", \"student\": 221080076} <class 'str'>\n"
          ]
        }
      ]
    },
    {
      "cell_type": "code",
      "source": [
        "x = {\"name\":\"Aditya\",\"inst\":\"vjti\",\"student\":221080076}\n",
        "\n",
        "y=json.dumps(x)\n",
        "\n",
        "print(y,type(y))\n",
        "\n",
        "x=[1,2,3,4]\n",
        "y=json.dumps(x)\n",
        "print(y,type(y))\n",
        "\n",
        "\n",
        "x=\"Aditya\"\n",
        "y=json.dumps(x)\n",
        "print(y,type(y))\n",
        "\n",
        "\n",
        "x=21\n",
        "y=json.dumps(x)\n",
        "print(y,type(y))\n",
        "\n",
        "\n",
        "x=True\n",
        "y=json.dumps(x)\n",
        "print(y,type(y))\n"
      ],
      "metadata": {
        "colab": {
          "base_uri": "https://localhost:8080/"
        },
        "id": "6RThUEaGHxrq",
        "outputId": "72bfe286-4a1f-427c-b2e0-0f4b97c29ae1"
      },
      "execution_count": null,
      "outputs": [
        {
          "output_type": "stream",
          "name": "stdout",
          "text": [
            "{\"name\": \"Aditya\", \"inst\": \"vjti\", \"student\": 221080076} <class 'str'>\n",
            "[1, 2, 3, 4] <class 'str'>\n",
            "\"Aditya\" <class 'str'>\n",
            "21 <class 'str'>\n"
          ]
        }
      ]
    }
  ]
}